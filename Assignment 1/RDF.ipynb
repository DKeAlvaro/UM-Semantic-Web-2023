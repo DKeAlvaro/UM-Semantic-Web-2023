{
 "cells": [
  {
   "cell_type": "code",
   "execution_count": 1,
   "metadata": {},
   "outputs": [],
   "source": [
    "from rdflib import URIRef, BNode, Literal, Namespace, Graph\n",
    "from rdflib.namespace import FOAF, DCTERMS, XSD, RDF, SDO\n",
    "\n",
    "g = Graph()\n",
    "amazon = Namespace('https://www.amazon.nl/-/en/')"
   ]
  },
  {
   "cell_type": "code",
   "execution_count": 2,
   "id": "27d58e52",
   "metadata": {},
   "outputs": [],
   "source": [
    "product = URIRef('https://dbpedia.org/ontology/product')\n",
    "category = URIRef('https://dbpedia.org/ontology/category')\n",
    "subProduct = URIRef('https://dbpedia.org/page/Subclass') # TODO: is this URI correct? \n",
    "brand = URIRef('https://dbpedia.org/page/Brand')"
   ]
  },
  {
   "cell_type": "code",
   "execution_count": 3,
   "id": "a7011bb2",
   "metadata": {},
   "outputs": [],
   "source": [
    "amazon = Namespace('https://www.amazon.nl/-/en/')\n",
    "\n",
    "books = amazon['gp/browse.html?node=16241779031&ref_=nav_em_bo_all_0_2_7_2']\n",
    "electronics = amazon['gp/browse.html?node=16269066031&ref_=nav_em_el_all_electronics_0_2_9_2']\n",
    "grocery = amazon['gp/browse.html?node=16242078031&ref_=nav_em_fg_groc_0_2_15_2']"
   ]
  },
  {
   "cell_type": "code",
   "execution_count": 4,
   "id": "88710140",
   "metadata": {},
   "outputs": [],
   "source": [
    "# Books: \n",
    "iewu = amazon['Colleen-Hoover/dp/1471156265/ref=sr_1_9?crid=1D1Y107ELRIZA&keywords=books&qid=1695027597&sprefix=book%2Caps%2C227&sr=8-9']\n",
    "gggm = amazon['Jackson-Holly/dp/1405293187/ref=sr_1_10?crid=1D1Y107ELRIZA&keywords=books&qid=1695027597&sprefix=book%2Caps%2C227&sr=8-10']\n",
    "atomic_habits = amazon['ames-Clear/dp/1847941834/ref=sr_1_11?crid=1D1Y107ELRIZA&keywords=books&qid=1695027597&sprefix=book%2Caps%2C227&sr=8-11']\n",
    "\n",
    "# Electronics:\n",
    "laptop = amazon['Apple-MacBook-Air-Laptop-Keyboard/dp/B08N5Y9H7G/ref=sr_1_5?crid=1A2KOFTTOJ21H&keywords=laptop+macbook&qid=1695022134&sprefix=laptop+macbook%2Caps%2C117&sr=8-5']\n",
    "phone = amazon['MU1F3ZD-A/dp/B0CHX2FWRJ/ref=sr_1_3_sspa?crid=3V3D3O0RYA4E2&keywords=iphone&qid=1695023174&sprefix=iphone%2Caps%2C131&sr=8-3-spons&sp_csd=d2lkZ2V0TmFtZT1zcF9hdGY&psc=1']\n",
    "camera = amazon['Megapixel-Vari-Angle-Display-Full-HD-Bluetooth/dp/B07QJ21YQ6/ref=sr_1_1_sspa?crid=1GCH66V1EKYSE&keywords=camera&qid=1695023879&sprefix=camer%2Caps%2C144&sr=8-1-spons&sp_csd=d2lkZ2V0TmFtZT1zcF9hdGY&th=1']\n",
    "\n",
    "# Groceries: \n",
    "kinder_bueno = amazon['Ferrero-Chocolate-hazelnuts-covered-chocolate/dp/B084ZQ623N?ref_=Oct_d_omwf_d_84749517031_0&pd_rd_w=2qxtw&content-id=amzn1.sym.23330388-7c1e-435c-88d3-ba35c945b7fe&pf_rd_p=23330388-7c1e-435c-88d3-ba35c945b7fe&pf_rd_r=S5JAVRET9XHZKX3KHYQR&pd_rd_wg=NA8rv&pd_rd_r=62c5968f-d066-4506-abe3-24884f0d4db4&pd_rd_i=B084ZQ623N']\n",
    "doritos = amazon['Doritos-Bits-Sweet-Paprika-Chips/dp/B004HFKVI0?ref_=Oct_d_omwf_d_16462764031_0&pd_rd_w=oBJuB&content-id=amzn1.sym.23330388-7c1e-435c-88d3-ba35c945b7fe&pf_rd_p=23330388-7c1e-435c-88d3-ba35c945b7fe&pf_rd_r=1HFH0S57DY8N9C2ZSN6A&pd_rd_wg=a3VYG&pd_rd_r=89a1538e-c235-447e-bc85-4e8692c2ee5e&pd_rd_i=B004HFKVI0']\n",
    "acai = amazon['Organic-Acai-Berry-Powder-Freeze-dried/dp/B079GX1W3W?ref_=Oct_d_otopr_d_16462867031_3&pd_rd_w=8lPNg&content-id=amzn1.sym.cc6bb163-55ad-4f4e-881d-b98063979b38&pf_rd_p=cc6bb163-55ad-4f4e-881d-b98063979b38&pf_rd_r=G46CGXZDPE28JGVV6EX8&pd_rd_wg=qn8Ua&pd_rd_r=314444db-03e0-47b0-b5bd-84ff35a2df9e&pd_rd_i=B079GX1W3W']"
   ]
  },
  {
   "cell_type": "markdown",
   "id": "269dbafa",
   "metadata": {},
   "source": [
    "##### Adding all categories and their respective products "
   ]
  },
  {
   "cell_type": "code",
   "execution_count": 5,
   "id": "2dca7dcf",
   "metadata": {},
   "outputs": [],
   "source": [
    "# TODO: is the SDO.offers neccessary? or can we use the subProduct class (make sure it's actually correct)"
   ]
  },
  {
   "cell_type": "code",
   "execution_count": 6,
   "id": "aad2abf2",
   "metadata": {},
   "outputs": [
    {
     "data": {
      "text/plain": [
       "<Graph identifier=N08311ce003674ed18f66e934c17b02ce (<class 'rdflib.graph.Graph'>)>"
      ]
     },
     "execution_count": 6,
     "metadata": {},
     "output_type": "execute_result"
    }
   ],
   "source": [
    "g.bind('Amazon', amazon)\n",
    "# ----------------------------------------------\n",
    "g.add((books, RDF.type, category))\n",
    "\n",
    "g.add((iewu, RDF.type, product))\n",
    "g.add((gggm, RDF.type, product))\n",
    "g.add((atomic_habits, RDF.type, product))\n",
    "\n",
    "g.add((books, SDO.offers, iewu))\n",
    "g.add((books, SDO.offers, gggm))\n",
    "g.add((books, SDO.offers, atomic_habits))\n",
    "\n",
    "g.add((iewu, subProduct, books))\n",
    "g.add((gggm, subProduct, books))\n",
    "g.add((atomic_habits, subProduct, books))\n",
    "# ----------------------------------------------\n",
    "g.add((electronics, RDF.type, category))\n",
    "\n",
    "g.add((laptop, RDF.type, product))\n",
    "g.add((phone, RDF.type, product))\n",
    "g.add((camera, RDF.type, product))\n",
    "\n",
    "g.add((electronics, SDO.offers, laptop))\n",
    "g.add((electronics, SDO.offers, phone))\n",
    "g.add((electronics, SDO.offers, camera))\n",
    "\n",
    "g.add((laptop, subProduct, electronics))\n",
    "g.add((phone, subProduct, electronics))\n",
    "g.add((camera, subProduct, electronics))\n",
    "# ----------------------------------------------\n",
    "g.add((grocery, RDF.type, category))\n",
    "\n",
    "g.add((kinder_bueno, RDF.type, product))\n",
    "g.add((doritos, RDF.type, product))\n",
    "g.add((acai, RDF.type, product))\n",
    "\n",
    "g.add((grocery, SDO.offers, kinder_bueno))\n",
    "g.add((grocery, SDO.offers, doritos))\n",
    "g.add((grocery, SDO.offers, acai))\n",
    "\n",
    "g.add((kinder_bueno, subProduct, grocery))\n",
    "g.add((doritos, subProduct, grocery))\n",
    "g.add((acai, subProduct, grocery))"
   ]
  },
  {
   "cell_type": "markdown",
   "id": "19eb3425",
   "metadata": {},
   "source": [
    "##### For every product, add (at least) five object properties "
   ]
  },
  {
   "cell_type": "code",
   "execution_count": 22,
   "id": "6f23460e",
   "metadata": {},
   "outputs": [],
   "source": [
    "# non-literal types \n",
    "genre = URIRef('https://dbpedia.org/page/Genre')\n",
    "written_by = URIRef('https://dbpedia.org/page/Author')\n",
    "book_type = URIRef('https://dbpedia.org/page/Book_type')\n",
    "publisher = URIRef('https://schema.org/publisher')\n",
    "language = URIRef('https://dbpedia.org/page/Language')\n",
    "\n",
    "operatingSystem = URIRef('https://schema.org/operatingSystem')\n",
    "color = URIRef('https://schema.org/color')\n",
    "cpu = URIRef('https://dbpedia.org/page/Central_processing_unit')\n",
    "display = URIRef('https://dbpedia.org/property/display')\n",
    "password = URIRef('https://dbpedia.org/page/Password')\n",
    "shutter = URIRef('https://dbpedia.org/page/Shutter_(photography)')\n",
    "image_type = URIRef('https://dbpedia.org/page/Image_file_format')\n",
    "video_type = URIRef('https://dbpedia.org/page/Category:Motion_picture_film_formats')\n",
    "software = URIRef('https://dbpedia.org/page/Software')\n",
    "\n",
    "# add the grocery types if they're not mentioned above \n",
    "\n",
    "flavour = URIRef('https://dbpedia.org/ontology/taste')"
   ]
  },
  {
   "cell_type": "code",
   "execution_count": 27,
   "id": "91dce21c",
   "metadata": {},
   "outputs": [],
   "source": [
    "# literals \n",
    "price = URIRef('https://schema.org/price')\n",
    "name = URIRef('https://dbpedia.org/property/name')\n",
    "title = URIRef('https://dbpedia.org/page/Title')\n",
    "\n",
    "unit = URIRef('https://dbpedia.org/page/Unit')\n",
    "weight = URIRef('https://dbpedia.org/page/Weight')"
   ]
  },
  {
   "cell_type": "markdown",
   "id": "dd0b00ee",
   "metadata": {},
   "source": [
    "#### Books\n",
    "It Ends With Us"
   ]
  },
  {
   "cell_type": "code",
   "execution_count": 9,
   "id": "e338f312",
   "metadata": {},
   "outputs": [
    {
     "data": {
      "text/plain": [
       "<Graph identifier=N08311ce003674ed18f66e934c17b02ce (<class 'rdflib.graph.Graph'>)>"
      ]
     },
     "execution_count": 9,
     "metadata": {},
     "output_type": "execute_result"
    }
   ],
   "source": [
    "romance = URIRef('https://en.wikipedia.org/wiki/Romance_novel')\n",
    "coleen = URIRef('https://en.wikipedia.org/wiki/Colleen_Hoover')\n",
    "paperback = URIRef('https://en.wikipedia.org/wiki/Paperback')\n",
    "s_and_s = URIRef('https://www.simonandschuster.com/')\n",
    "english = URIRef('https://en.wikipedia.org/wiki/English_language')\n",
    "\n",
    "g.add((iewu, genre, romance))\n",
    "g.add((iewu, written_by, coleen))\n",
    "g.add((iewu, book_type, paperback))\n",
    "g.add((iewu, publisher, s_and_s))\n",
    "g.add((iewu, language, english))\n",
    "g.add((iewu, title, Literal('It Ends With Us')))\n",
    "g.add((iewu, price, Literal(10.19, datatype=XSD.float)))"
   ]
  },
  {
   "cell_type": "markdown",
   "id": "aaab3c40",
   "metadata": {},
   "source": [
    "A Good Girl's Guide to Murder"
   ]
  },
  {
   "cell_type": "code",
   "execution_count": 10,
   "id": "89cf66ab",
   "metadata": {},
   "outputs": [
    {
     "data": {
      "text/plain": [
       "<Graph identifier=N08311ce003674ed18f66e934c17b02ce (<class 'rdflib.graph.Graph'>)>"
      ]
     },
     "execution_count": 10,
     "metadata": {},
     "output_type": "execute_result"
    }
   ],
   "source": [
    "mistery = URIRef('https://en.wikipedia.org/wiki/Mystery_fiction')\n",
    "hard_cover = URIRef('https://en.wikipedia.org/wiki/Hardcover')\n",
    "holly = URIRef('https://en.wikipedia.org/wiki/Holly_Jackson')\n",
    "penguin_rh = URIRef('https://www.penguinrandomhouse.com/books/')\n",
    "\n",
    "g.add((gggm, genre, mistery))\n",
    "g.add((gggm, written_by, holly))\n",
    "g.add((gggm, book_type, hard_cover))\n",
    "g.add((gggm, publisher, penguin_rh))\n",
    "g.add((gggm, language, english))\n",
    "g.add((gggm, title, Literal('A Good Girl\\'s Guide to Murder')))\n",
    "g.add((gggm, price, Literal(18.99, datatype=XSD.float)))"
   ]
  },
  {
   "cell_type": "markdown",
   "id": "49165738",
   "metadata": {},
   "source": [
    "Atmoic Habits "
   ]
  },
  {
   "cell_type": "code",
   "execution_count": 11,
   "id": "2fedb615",
   "metadata": {},
   "outputs": [
    {
     "data": {
      "text/plain": [
       "<Graph identifier=N08311ce003674ed18f66e934c17b02ce (<class 'rdflib.graph.Graph'>)>"
      ]
     },
     "execution_count": 11,
     "metadata": {},
     "output_type": "execute_result"
    }
   ],
   "source": [
    "self_help = URIRef('https://en.wikipedia.org/wiki/Self-help_book')\n",
    "james = URIRef('https://jamesclear.com/')\n",
    "\n",
    "g.add((atomic_habits, genre, self_help))\n",
    "g.add((atomic_habits, written_by, james))\n",
    "g.add((atomic_habits, book_type, hard_cover))\n",
    "g.add((atomic_habits, publisher, penguin_rh))\n",
    "g.add((atomic_habits, language, english))\n",
    "g.add((atomic_habits, title, Literal('Atomic Habits')))\n",
    "g.add((atomic_habits, price, Literal(27.32, datatype=XSD.float)))"
   ]
  },
  {
   "cell_type": "markdown",
   "id": "6da21e94",
   "metadata": {},
   "source": [
    "#### Electronics\n",
    "Laptop"
   ]
  },
  {
   "cell_type": "code",
   "execution_count": 12,
   "id": "ba1d59fc",
   "metadata": {},
   "outputs": [
    {
     "data": {
      "text/plain": [
       "<Graph identifier=N08311ce003674ed18f66e934c17b02ce (<class 'rdflib.graph.Graph'>)>"
      ]
     },
     "execution_count": 12,
     "metadata": {},
     "output_type": "execute_result"
    }
   ],
   "source": [
    "macOS = URIRef('https://apps.apple.com/us/app/macos-mojave/id1398502828?mt=12')\n",
    "m1 = URIRef('https://en.wikipedia.org/wiki/Apple_M1')\n",
    "apple = URIRef('https://www.apple.com/by/')\n",
    "retina = URIRef('https://en.wikipedia.org/wiki/Retina_display')\n",
    "touch_ID = URIRef('https://en.wikipedia.org/wiki/Touch_ID')\n",
    "\n",
    "g.add((laptop, operatingSystem, macOS))\n",
    "g.add((laptop, cpu, m1))\n",
    "g.add((laptop, brand, apple))\n",
    "g.add((laptop, display, retina))\n",
    "g.add((laptop, password, touch_ID))\n",
    "g.add((laptop, name, Literal('MacBook Air')))\n",
    "g.add((laptop, price, Literal(919.00, datatype=XSD.float)))"
   ]
  },
  {
   "cell_type": "markdown",
   "id": "e63610bf",
   "metadata": {},
   "source": [
    "Phone"
   ]
  },
  {
   "cell_type": "code",
   "execution_count": 13,
   "id": "b1310dc6",
   "metadata": {},
   "outputs": [
    {
     "data": {
      "text/plain": [
       "<Graph identifier=N08311ce003674ed18f66e934c17b02ce (<class 'rdflib.graph.Graph'>)>"
      ]
     },
     "execution_count": 13,
     "metadata": {},
     "output_type": "execute_result"
    }
   ],
   "source": [
    "pro_display = URIRef('https://en.wikipedia.org/wiki/Pro_Display_XDR')\n",
    "face_id = URIRef('https://en.wikipedia.org/wiki/Face_ID')\n",
    "hexa_core = URIRef('https://en.wikichip.org/wiki/hexa-core')\n",
    "ios17 = URIRef('https://www.apple.com/ios/ios-17/')\n",
    "\n",
    "g.add((phone, brand, apple))\n",
    "g.add((phone, display, pro_display))\n",
    "g.add((phone, password, face_id))\n",
    "g.add((phone, cpu, hexa_core))\n",
    "g.add((phone, operatingSystem, ios17))\n",
    "g.add((phone, name, Literal('iPhone 15 Plus')))\n",
    "g.add((phone, price, Literal(1249.00, datatype=XSD.float)))"
   ]
  },
  {
   "cell_type": "markdown",
   "id": "1c952c15",
   "metadata": {},
   "source": [
    "Camera"
   ]
  },
  {
   "cell_type": "code",
   "execution_count": 14,
   "id": "afbf32f2",
   "metadata": {},
   "outputs": [
    {
     "data": {
      "text/plain": [
       "<Graph identifier=N08311ce003674ed18f66e934c17b02ce (<class 'rdflib.graph.Graph'>)>"
      ]
     },
     "execution_count": 14,
     "metadata": {},
     "output_type": "execute_result"
    }
   ],
   "source": [
    "canon = URIRef('https://www.canon.nl/')\n",
    "focal_plane = URIRef('https://en.wikipedia.org/wiki/Focal-plane_shutter')\n",
    "jpeg = URIRef('https://en.wikipedia.org/wiki/JPEG')\n",
    "mp4 = URIRef('https://en.wikipedia.org/wiki/MP4_file_format')\n",
    "dpp = URIRef('https://www.canon-europe.com/support/consumer_products/software/digital-photo-professional.html?softwareid=tcm:13-1328049&language=EN&os=all')\n",
    "\n",
    "g.add((camera, brand, canon))\n",
    "g.add((camera, shutter, focal_plane))\n",
    "g.add((camera, image_type, jpeg))\n",
    "g.add((camera, video_type, mp4))\n",
    "g.add((camera, software, dpp))\n",
    "g.add((camera, name, Literal('EOS 250D')))\n",
    "g.add((camera, price, Literal(695.99, datatype=XSD.float)))"
   ]
  },
  {
   "cell_type": "markdown",
   "id": "72ea9c60",
   "metadata": {},
   "source": [
    "### Groceries\n",
    "Kinderbueno"
   ]
  },
  {
   "cell_type": "code",
   "execution_count": 28,
   "id": "fb548c32",
   "metadata": {},
   "outputs": [
    {
     "data": {
      "text/plain": [
       "<Graph identifier=N6a1488fc27e4401cbf9067e8d9e58d32 (<class 'rdflib.graph.Graph'>)>"
      ]
     },
     "execution_count": 28,
     "metadata": {},
     "output_type": "execute_result"
    }
   ],
   "source": [
    "# TODO: add all the relations for groceries\n",
    "# try to follow the way the products have been added above pleaseeee :) \n",
    "\n",
    "kinder_bueno = URIRef('https://en.wikipedia.org/wiki/Kinder_Bueno')\n",
    "hazelnut = URIRef('https://en.wikipedia.org/wiki/Hazelnut')\n",
    "\n",
    "g.add((kinder_bueno, name, Literal('Kinder bueno')))\n",
    "g.add((kinder_bueno, flavour, kinder_bueno))\n",
    "g.add((kinder_bueno, unit, Literal(1290, datatype = XSD.float)))\n",
    "g.add((kinder_bueno, weight, Literal(1.5, datatype = XSD.float)))"
   ]
  },
  {
   "cell_type": "markdown",
   "id": "18bfa468",
   "metadata": {},
   "source": [
    "Doritos"
   ]
  },
  {
   "cell_type": "code",
   "execution_count": 33,
   "id": "ce8dff16",
   "metadata": {},
   "outputs": [
    {
     "data": {
      "text/plain": [
       "<Graph identifier=N6a1488fc27e4401cbf9067e8d9e58d32 (<class 'rdflib.graph.Graph'>)>"
      ]
     },
     "execution_count": 33,
     "metadata": {},
     "output_type": "execute_result"
    }
   ],
   "source": [
    "doritos_brand = URIRef('https://en.wikipedia.org/wiki/Doritos')\n",
    "sweet = URIRef('https://es.wikipedia.org/wiki/Sweet')\n",
    "\n",
    "g.add((doritos, RDF.type, Literal('Chips')))\n",
    "g.add((doritos, brand, doritos_brand))\n",
    "g.add((doritos, flavour, sweet))\n",
    "g.add((doritos, name, Literal('Doritos Bits Sweet Paprika Chips')))"
   ]
  },
  {
   "cell_type": "code",
   "execution_count": 16,
   "id": "d5bb553d",
   "metadata": {},
   "outputs": [
    {
     "data": {
      "text/plain": [
       "<Graph identifier=N08311ce003674ed18f66e934c17b02ce (<class 'rdflib.graph.Graph'>)>"
      ]
     },
     "execution_count": 16,
     "metadata": {},
     "output_type": "execute_result"
    }
   ],
   "source": [
    "# TODO: books don't have brands, they have publishers should we set the publishing houses as brands or publishers? \n",
    "g.add((penguin_rh, RDF.type, publisher))\n",
    "g.add((s_and_s, RDF.type, publisher))\n",
    "\n",
    "g.add((apple, RDF.type, brand))\n",
    "g.add((canon, RDF.type, brand))\n",
    "\n",
    "# TODO: add the brands for the grocery products below this line \n"
   ]
  },
  {
   "cell_type": "code",
   "execution_count": 17,
   "id": "ba11fed1",
   "metadata": {},
   "outputs": [
    {
     "name": "stdout",
     "output_type": "stream",
     "text": [
      "@prefix ns1: <https://dbpedia.org/page/> .\n",
      "@prefix ns2: <https://dbpedia.org/property/> .\n",
      "@prefix ns3: <https://dbpedia.org/page/Category:> .\n",
      "@prefix schema: <https://schema.org/> .\n",
      "@prefix xsd: <http://www.w3.org/2001/XMLSchema#> .\n",
      "\n",
      "<https://www.amazon.nl/-/en/Apple-MacBook-Air-Laptop-Keyboard/dp/B08N5Y9H7G/ref=sr_1_5?crid=1A2KOFTTOJ21H&keywords=laptop+macbook&qid=1695022134&sprefix=laptop+macbook%2Caps%2C117&sr=8-5> a <https://dbpedia.org/ontology/product> ;\n",
      "    ns1:Brand <https://www.apple.com/by/> ;\n",
      "    ns1:Central_processing_unit <https://en.wikipedia.org/wiki/Apple_M1> ;\n",
      "    ns1:Password <https://en.wikipedia.org/wiki/Touch_ID> ;\n",
      "    ns1:Subclass <https://www.amazon.nl/-/en/gp/browse.html?node=16269066031&ref_=nav_em_el_all_electronics_0_2_9_2> ;\n",
      "    ns2:display <https://en.wikipedia.org/wiki/Retina_display> ;\n",
      "    ns2:name \"MacBook Air\" ;\n",
      "    schema:operatingSystem <https://apps.apple.com/us/app/macos-mojave/id1398502828?mt=12> ;\n",
      "    schema:price \"919.0\"^^xsd:float .\n",
      "\n",
      "<https://www.amazon.nl/-/en/Colleen-Hoover/dp/1471156265/ref=sr_1_9?crid=1D1Y107ELRIZA&keywords=books&qid=1695027597&sprefix=book%2Caps%2C227&sr=8-9> a <https://dbpedia.org/ontology/product> ;\n",
      "    ns1:Author <https://en.wikipedia.org/wiki/Colleen_Hoover> ;\n",
      "    ns1:Book_type <https://en.wikipedia.org/wiki/Paperback> ;\n",
      "    ns1:Genre <https://en.wikipedia.org/wiki/Romance_novel> ;\n",
      "    ns1:Language <https://en.wikipedia.org/wiki/English_language> ;\n",
      "    ns1:Subclass <https://www.amazon.nl/-/en/gp/browse.html?node=16241779031&ref_=nav_em_bo_all_0_2_7_2> ;\n",
      "    ns1:Title \"It Ends With Us\" ;\n",
      "    schema:price \"10.19\"^^xsd:float ;\n",
      "    schema:publisher <https://www.simonandschuster.com/> .\n",
      "\n",
      "<https://www.amazon.nl/-/en/Doritos-Bits-Sweet-Paprika-Chips/dp/B004HFKVI0?ref_=Oct_d_omwf_d_16462764031_0&pd_rd_w=oBJuB&content-id=amzn1.sym.23330388-7c1e-435c-88d3-ba35c945b7fe&pf_rd_p=23330388-7c1e-435c-88d3-ba35c945b7fe&pf_rd_r=1HFH0S57DY8N9C2ZSN6A&pd_rd_wg=a3VYG&pd_rd_r=89a1538e-c235-447e-bc85-4e8692c2ee5e&pd_rd_i=B004HFKVI0> a <https://dbpedia.org/ontology/product> ;\n",
      "    ns1:Subclass <https://www.amazon.nl/-/en/gp/browse.html?node=16242078031&ref_=nav_em_fg_groc_0_2_15_2> .\n",
      "\n",
      "<https://www.amazon.nl/-/en/Ferrero-Chocolate-hazelnuts-covered-chocolate/dp/B084ZQ623N?ref_=Oct_d_omwf_d_84749517031_0&pd_rd_w=2qxtw&content-id=amzn1.sym.23330388-7c1e-435c-88d3-ba35c945b7fe&pf_rd_p=23330388-7c1e-435c-88d3-ba35c945b7fe&pf_rd_r=S5JAVRET9XHZKX3KHYQR&pd_rd_wg=NA8rv&pd_rd_r=62c5968f-d066-4506-abe3-24884f0d4db4&pd_rd_i=B084ZQ623N> a <https://dbpedia.org/ontology/product> ;\n",
      "    ns1:Subclass <https://www.amazon.nl/-/en/gp/browse.html?node=16242078031&ref_=nav_em_fg_groc_0_2_15_2> .\n",
      "\n",
      "<https://www.amazon.nl/-/en/Jackson-Holly/dp/1405293187/ref=sr_1_10?crid=1D1Y107ELRIZA&keywords=books&qid=1695027597&sprefix=book%2Caps%2C227&sr=8-10> a <https://dbpedia.org/ontology/product> ;\n",
      "    ns1:Author <https://en.wikipedia.org/wiki/Holly_Jackson> ;\n",
      "    ns1:Book_type <https://en.wikipedia.org/wiki/Hardcover> ;\n",
      "    ns1:Genre <https://en.wikipedia.org/wiki/Mystery_fiction> ;\n",
      "    ns1:Language <https://en.wikipedia.org/wiki/English_language> ;\n",
      "    ns1:Subclass <https://www.amazon.nl/-/en/gp/browse.html?node=16241779031&ref_=nav_em_bo_all_0_2_7_2> ;\n",
      "    ns1:Title \"A Good Girl's Guide to Murder\" ;\n",
      "    schema:price \"18.99\"^^xsd:float ;\n",
      "    schema:publisher <https://www.penguinrandomhouse.com/books/> .\n",
      "\n",
      "<https://www.amazon.nl/-/en/MU1F3ZD-A/dp/B0CHX2FWRJ/ref=sr_1_3_sspa?crid=3V3D3O0RYA4E2&keywords=iphone&qid=1695023174&sprefix=iphone%2Caps%2C131&sr=8-3-spons&sp_csd=d2lkZ2V0TmFtZT1zcF9hdGY&psc=1> a <https://dbpedia.org/ontology/product> ;\n",
      "    ns1:Brand <https://www.apple.com/by/> ;\n",
      "    ns1:Central_processing_unit <https://en.wikichip.org/wiki/hexa-core> ;\n",
      "    ns1:Password <https://en.wikipedia.org/wiki/Face_ID> ;\n",
      "    ns1:Subclass <https://www.amazon.nl/-/en/gp/browse.html?node=16269066031&ref_=nav_em_el_all_electronics_0_2_9_2> ;\n",
      "    ns2:display <https://en.wikipedia.org/wiki/Pro_Display_XDR> ;\n",
      "    ns2:name \"iPhone 15 Plus\" ;\n",
      "    schema:operatingSystem <https://www.apple.com/ios/ios-17/> ;\n",
      "    schema:price \"1249.0\"^^xsd:float .\n",
      "\n",
      "<https://www.amazon.nl/-/en/Megapixel-Vari-Angle-Display-Full-HD-Bluetooth/dp/B07QJ21YQ6/ref=sr_1_1_sspa?crid=1GCH66V1EKYSE&keywords=camera&qid=1695023879&sprefix=camer%2Caps%2C144&sr=8-1-spons&sp_csd=d2lkZ2V0TmFtZT1zcF9hdGY&th=1> a <https://dbpedia.org/ontology/product> ;\n",
      "    ns1:Brand <https://www.canon.nl/> ;\n",
      "    ns3:Motion_picture_film_formats <https://en.wikipedia.org/wiki/MP4_file_format> ;\n",
      "    ns1:Image_file_format <https://en.wikipedia.org/wiki/JPEG> ;\n",
      "    ns1:Shutter_\\(photography\\) <https://en.wikipedia.org/wiki/Focal-plane_shutter> ;\n",
      "    ns1:Software <https://www.canon-europe.com/support/consumer_products/software/digital-photo-professional.html?softwareid=tcm:13-1328049&language=EN&os=all> ;\n",
      "    ns1:Subclass <https://www.amazon.nl/-/en/gp/browse.html?node=16269066031&ref_=nav_em_el_all_electronics_0_2_9_2> ;\n",
      "    ns2:name \"EOS 250D\" ;\n",
      "    schema:price \"695.99\"^^xsd:float .\n",
      "\n",
      "<https://www.amazon.nl/-/en/Organic-Acai-Berry-Powder-Freeze-dried/dp/B079GX1W3W?ref_=Oct_d_otopr_d_16462867031_3&pd_rd_w=8lPNg&content-id=amzn1.sym.cc6bb163-55ad-4f4e-881d-b98063979b38&pf_rd_p=cc6bb163-55ad-4f4e-881d-b98063979b38&pf_rd_r=G46CGXZDPE28JGVV6EX8&pd_rd_wg=qn8Ua&pd_rd_r=314444db-03e0-47b0-b5bd-84ff35a2df9e&pd_rd_i=B079GX1W3W> a <https://dbpedia.org/ontology/product> ;\n",
      "    ns1:Subclass <https://www.amazon.nl/-/en/gp/browse.html?node=16242078031&ref_=nav_em_fg_groc_0_2_15_2> .\n",
      "\n",
      "<https://www.amazon.nl/-/en/ames-Clear/dp/1847941834/ref=sr_1_11?crid=1D1Y107ELRIZA&keywords=books&qid=1695027597&sprefix=book%2Caps%2C227&sr=8-11> a <https://dbpedia.org/ontology/product> ;\n",
      "    ns1:Author <https://jamesclear.com/> ;\n",
      "    ns1:Book_type <https://en.wikipedia.org/wiki/Hardcover> ;\n",
      "    ns1:Genre <https://en.wikipedia.org/wiki/Self-help_book> ;\n",
      "    ns1:Language <https://en.wikipedia.org/wiki/English_language> ;\n",
      "    ns1:Subclass <https://www.amazon.nl/-/en/gp/browse.html?node=16241779031&ref_=nav_em_bo_all_0_2_7_2> ;\n",
      "    ns1:Title \"Atomic Habits\" ;\n",
      "    schema:price \"27.32\"^^xsd:float ;\n",
      "    schema:publisher <https://www.penguinrandomhouse.com/books/> .\n",
      "\n",
      "<https://www.canon.nl/> a ns1:Brand .\n",
      "\n",
      "<https://www.simonandschuster.com/> a schema:publisher .\n",
      "\n",
      "<https://www.apple.com/by/> a ns1:Brand .\n",
      "\n",
      "<https://www.penguinrandomhouse.com/books/> a schema:publisher .\n",
      "\n",
      "<https://www.amazon.nl/-/en/gp/browse.html?node=16241779031&ref_=nav_em_bo_all_0_2_7_2> a <https://dbpedia.org/ontology/category> ;\n",
      "    schema:offers <https://www.amazon.nl/-/en/Colleen-Hoover/dp/1471156265/ref=sr_1_9?crid=1D1Y107ELRIZA&keywords=books&qid=1695027597&sprefix=book%2Caps%2C227&sr=8-9>,\n",
      "        <https://www.amazon.nl/-/en/Jackson-Holly/dp/1405293187/ref=sr_1_10?crid=1D1Y107ELRIZA&keywords=books&qid=1695027597&sprefix=book%2Caps%2C227&sr=8-10>,\n",
      "        <https://www.amazon.nl/-/en/ames-Clear/dp/1847941834/ref=sr_1_11?crid=1D1Y107ELRIZA&keywords=books&qid=1695027597&sprefix=book%2Caps%2C227&sr=8-11> .\n",
      "\n",
      "<https://www.amazon.nl/-/en/gp/browse.html?node=16242078031&ref_=nav_em_fg_groc_0_2_15_2> a <https://dbpedia.org/ontology/category> ;\n",
      "    schema:offers <https://www.amazon.nl/-/en/Doritos-Bits-Sweet-Paprika-Chips/dp/B004HFKVI0?ref_=Oct_d_omwf_d_16462764031_0&pd_rd_w=oBJuB&content-id=amzn1.sym.23330388-7c1e-435c-88d3-ba35c945b7fe&pf_rd_p=23330388-7c1e-435c-88d3-ba35c945b7fe&pf_rd_r=1HFH0S57DY8N9C2ZSN6A&pd_rd_wg=a3VYG&pd_rd_r=89a1538e-c235-447e-bc85-4e8692c2ee5e&pd_rd_i=B004HFKVI0>,\n",
      "        <https://www.amazon.nl/-/en/Ferrero-Chocolate-hazelnuts-covered-chocolate/dp/B084ZQ623N?ref_=Oct_d_omwf_d_84749517031_0&pd_rd_w=2qxtw&content-id=amzn1.sym.23330388-7c1e-435c-88d3-ba35c945b7fe&pf_rd_p=23330388-7c1e-435c-88d3-ba35c945b7fe&pf_rd_r=S5JAVRET9XHZKX3KHYQR&pd_rd_wg=NA8rv&pd_rd_r=62c5968f-d066-4506-abe3-24884f0d4db4&pd_rd_i=B084ZQ623N>,\n",
      "        <https://www.amazon.nl/-/en/Organic-Acai-Berry-Powder-Freeze-dried/dp/B079GX1W3W?ref_=Oct_d_otopr_d_16462867031_3&pd_rd_w=8lPNg&content-id=amzn1.sym.cc6bb163-55ad-4f4e-881d-b98063979b38&pf_rd_p=cc6bb163-55ad-4f4e-881d-b98063979b38&pf_rd_r=G46CGXZDPE28JGVV6EX8&pd_rd_wg=qn8Ua&pd_rd_r=314444db-03e0-47b0-b5bd-84ff35a2df9e&pd_rd_i=B079GX1W3W> .\n",
      "\n",
      "<https://www.amazon.nl/-/en/gp/browse.html?node=16269066031&ref_=nav_em_el_all_electronics_0_2_9_2> a <https://dbpedia.org/ontology/category> ;\n",
      "    schema:offers <https://www.amazon.nl/-/en/Apple-MacBook-Air-Laptop-Keyboard/dp/B08N5Y9H7G/ref=sr_1_5?crid=1A2KOFTTOJ21H&keywords=laptop+macbook&qid=1695022134&sprefix=laptop+macbook%2Caps%2C117&sr=8-5>,\n",
      "        <https://www.amazon.nl/-/en/MU1F3ZD-A/dp/B0CHX2FWRJ/ref=sr_1_3_sspa?crid=3V3D3O0RYA4E2&keywords=iphone&qid=1695023174&sprefix=iphone%2Caps%2C131&sr=8-3-spons&sp_csd=d2lkZ2V0TmFtZT1zcF9hdGY&psc=1>,\n",
      "        <https://www.amazon.nl/-/en/Megapixel-Vari-Angle-Display-Full-HD-Bluetooth/dp/B07QJ21YQ6/ref=sr_1_1_sspa?crid=1GCH66V1EKYSE&keywords=camera&qid=1695023879&sprefix=camer%2Caps%2C144&sr=8-1-spons&sp_csd=d2lkZ2V0TmFtZT1zcF9hdGY&th=1> .\n",
      "\n",
      "\n"
     ]
    }
   ],
   "source": [
    "print(g.serialize(format='ttl'))"
   ]
  }
 ],
 "metadata": {
  "kernelspec": {
   "display_name": "Python 3",
   "language": "python",
   "name": "python3"
  },
  "language_info": {
   "codemirror_mode": {
    "name": "ipython",
    "version": 3
   },
   "file_extension": ".py",
   "mimetype": "text/x-python",
   "name": "python",
   "nbconvert_exporter": "python",
   "pygments_lexer": "ipython3",
   "version": "3.11.3"
  }
 },
 "nbformat": 4,
 "nbformat_minor": 5
}
