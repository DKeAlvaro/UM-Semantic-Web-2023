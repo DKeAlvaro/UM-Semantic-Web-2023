{
 "cells": [
  {
   "cell_type": "code",
   "execution_count": 30,
   "metadata": {},
   "outputs": [],
   "source": [
    "from rdflib import URIRef, BNode, Literal, Namespace, Graph\n",
    "from rdflib.namespace import FOAF, DCTERMS, XSD, RDF, SDO\n",
    "\n",
    "g = Graph()\n",
    "amazon = Namespace('https://www.amazon.nl/-/en/')"
   ]
  },
  {
   "cell_type": "code",
   "execution_count": 31,
   "id": "27d58e52",
   "metadata": {},
   "outputs": [],
   "source": [
    "# Concepts\n",
    "product = URIRef('https://dbpedia.org/ontology/product')\n",
    "category = URIRef('https://dbpedia.org/ontology/category')\n",
    "subProduct = URIRef('https://dbpedia.org/page/Subclass') # TODO: is this URI correct? \n",
    "brand = URIRef('https://dbpedia.org/page/Brand')"
   ]
  },
  {
   "cell_type": "code",
   "execution_count": 32,
   "id": "a7011bb2",
   "metadata": {},
   "outputs": [],
   "source": [
    "books = amazon['gp/browse.html?node=16241779031&ref_=nav_em_bo_all_0_2_7_2']\n",
    "electronics = amazon['gp/browse.html?node=16269066031&ref_=nav_em_el_all_electronics_0_2_9_2']\n",
    "groceries = amazon['gp/browse.html?node=16242078031&ref_=nav_em_fg_groc_0_2_15_2']"
   ]
  },
  {
   "cell_type": "code",
   "execution_count": 33,
   "id": "88710140",
   "metadata": {},
   "outputs": [],
   "source": [
    "# Books: \n",
    "iewu = amazon['It-Ends-With-Us']\n",
    "\n",
    "# Electronics:\n",
    "laptop = amazon['Apple-MacBook-Air']\n",
    "\n",
    "# Groceries:\n",
    "kinder_bueno = amazon['Ferrero-Chocolate']\n"
   ]
  },
  {
   "cell_type": "markdown",
   "id": "269dbafa",
   "metadata": {},
   "source": [
    "##### Adding all categories and their respective products "
   ]
  },
  {
   "cell_type": "code",
   "execution_count": 34,
   "id": "aad2abf2",
   "metadata": {},
   "outputs": [
    {
     "data": {
      "text/plain": [
       "<Graph identifier=N8fc69ad6c83740f2bbaf9c57947916de (<class 'rdflib.graph.Graph'>)>"
      ]
     },
     "execution_count": 34,
     "metadata": {},
     "output_type": "execute_result"
    }
   ],
   "source": [
    "g.bind('Amazon', amazon)\n",
    "\n",
    "# ----------------------------------------------\n",
    "g.add((books, RDF.type, category))\n",
    "g.add((iewu, RDF.type, product))\n",
    "g.add((iewu, subProduct, books))\n",
    "# ----------------------------------------------\n",
    "g.add((electronics, RDF.type, category))\n",
    "g.add((laptop, RDF.type, product))\n",
    "g.add((laptop, subProduct, electronics))\n",
    "# ----------------------------------------------\n",
    "g.add((groceries, RDF.type, category))\n",
    "g.add((kinder_bueno, RDF.type, product))\n",
    "g.add((kinder_bueno, subProduct, groceries))\n",
    "\n"
   ]
  },
  {
   "cell_type": "markdown",
   "id": "19eb3425",
   "metadata": {},
   "source": [
    "##### For every product, add (at least) five object properties "
   ]
  },
  {
   "cell_type": "code",
   "execution_count": 35,
   "id": "6f23460e",
   "metadata": {},
   "outputs": [],
   "source": [
    "# Books\n",
    "genre = URIRef('https://dbpedia.org/page/Genre')\n",
    "written_by = URIRef('https://dbpedia.org/page/Author')\n",
    "book_type = URIRef('https://dbpedia.org/page/Book_type')\n",
    "publisher = URIRef('https://schema.org/publisher')\n",
    "language = URIRef('https://dbpedia.org/page/Language')\n",
    "\n",
    "# Electronics\n",
    "operatingSystem = URIRef('https://schema.org/operatingSystem')\n",
    "color = URIRef('https://schema.org/color')\n",
    "cpu = URIRef('https://dbpedia.org/page/Central_processing_unit')\n",
    "display = URIRef('https://dbpedia.org/property/display')\n",
    "password = URIRef('https://dbpedia.org/page/Password')\n",
    "\n",
    "# Groceries\n",
    "hasExpirationDate = URIRef('https://schema.org/expirationDate')\n",
    "countryOfOrigin = URIRef('https://dbpedia.org/ontology/country')\n",
    "creator = URIRef('https://dbpedia.org/ontology/creator')\n"
   ]
  },
  {
   "cell_type": "code",
   "execution_count": 36,
   "id": "91dce21c",
   "metadata": {},
   "outputs": [],
   "source": [
    "# literals \n",
    "price = URIRef('https://schema.org/price')\n",
    "name = URIRef('https://dbpedia.org/property/name')\n",
    "title = URIRef('https://dbpedia.org/page/Title')\n",
    "flavour = URIRef('https://dbpedia.org/page/Flavour')\n",
    "weight = URIRef('https://dbpedia.org/page/Weight')"
   ]
  },
  {
   "cell_type": "markdown",
   "id": "dd0b00ee",
   "metadata": {},
   "source": [
    "#### Books\n",
    "It Ends With Us"
   ]
  },
  {
   "cell_type": "code",
   "execution_count": 37,
   "id": "e338f312",
   "metadata": {},
   "outputs": [
    {
     "data": {
      "text/plain": [
       "<Graph identifier=N8fc69ad6c83740f2bbaf9c57947916de (<class 'rdflib.graph.Graph'>)>"
      ]
     },
     "execution_count": 37,
     "metadata": {},
     "output_type": "execute_result"
    }
   ],
   "source": [
    "romance = URIRef('https://en.wikipedia.org/wiki/Romance_novel')\n",
    "coleen = URIRef('https://en.wikipedia.org/wiki/Colleen_Hoover')\n",
    "paperback = URIRef('https://en.wikipedia.org/wiki/Paperback')\n",
    "s_and_s = URIRef('https://www.simonandschuster.com/')\n",
    "english = URIRef('https://en.wikipedia.org/wiki/English_language')\n",
    "\n",
    "g.add((iewu, genre, romance))\n",
    "g.add((iewu, written_by, coleen))\n",
    "g.add((iewu, book_type, paperback))\n",
    "g.add((iewu, publisher, s_and_s))\n",
    "g.add((iewu, language, english))\n",
    "g.add((iewu, title, Literal('It Ends With Us')))\n",
    "g.add((iewu, price, Literal(10.19, datatype=XSD.float)))"
   ]
  },
  {
   "cell_type": "markdown",
   "id": "6da21e94",
   "metadata": {},
   "source": [
    "#### Electronics\n",
    "Laptop"
   ]
  },
  {
   "cell_type": "code",
   "execution_count": 38,
   "id": "ba1d59fc",
   "metadata": {},
   "outputs": [
    {
     "data": {
      "text/plain": [
       "<Graph identifier=N8fc69ad6c83740f2bbaf9c57947916de (<class 'rdflib.graph.Graph'>)>"
      ]
     },
     "execution_count": 38,
     "metadata": {},
     "output_type": "execute_result"
    }
   ],
   "source": [
    "macOS = URIRef('https://apps.apple.com/us/app/macos-mojave/id1398502828?mt=12')\n",
    "m1 = URIRef('https://en.wikipedia.org/wiki/Apple_M1')\n",
    "apple = URIRef('https://www.apple.com/by/')\n",
    "retina = URIRef('https://en.wikipedia.org/wiki/Retina_display')\n",
    "touch_ID = URIRef('https://en.wikipedia.org/wiki/Touch_ID')\n",
    "\n",
    "g.add((laptop, operatingSystem, macOS))\n",
    "g.add((laptop, cpu, m1))\n",
    "g.add((laptop, brand, apple))\n",
    "g.add((laptop, display, retina))\n",
    "g.add((laptop, password, touch_ID))\n",
    "g.add((laptop, name, Literal('MacBook Air')))\n",
    "g.add((laptop, price, Literal(919.00, datatype=XSD.float)))"
   ]
  },
  {
   "cell_type": "markdown",
   "id": "4e276a81",
   "metadata": {},
   "source": [
    "### Groceries\n",
    "Kinder bueno"
   ]
  },
  {
   "cell_type": "code",
   "execution_count": 39,
   "id": "9a6496bc",
   "metadata": {},
   "outputs": [
    {
     "data": {
      "text/plain": [
       "<Graph identifier=N8fc69ad6c83740f2bbaf9c57947916de (<class 'rdflib.graph.Graph'>)>"
      ]
     },
     "execution_count": 39,
     "metadata": {},
     "output_type": "execute_result"
    }
   ],
   "source": [
    "ferrero = URIRef('https://www.ferrerorocher.com/es/es/')\n",
    "italy = URIRef('https://dbpedia.org/page/Italy')\n",
    "sweet = URIRef('https://dbpedia.org/page/Sweetness')\n",
    "michele_ferrero = URIRef('https://es.wikipedia.org/wiki/Michele_Ferrero')\n",
    "\n",
    "g.add((kinder_bueno, brand, ferrero))\n",
    "g.add((kinder_bueno, countryOfOrigin, italy))\n",
    "g.add((kinder_bueno, flavour, sweet ))\n",
    "g.add((kinder_bueno, hasExpirationDate, Literal('2023-10-07', datatype=XSD.date)))\n",
    "g.add((kinder_bueno, creator, michele_ferrero))\n",
    "\n"
   ]
  },
  {
   "cell_type": "code",
   "execution_count": 40,
   "id": "6a57711e",
   "metadata": {},
   "outputs": [
    {
     "data": {
      "text/plain": [
       "<Graph identifier=N8fc69ad6c83740f2bbaf9c57947916de (<class 'rdflib.graph.Graph'>)>"
      ]
     },
     "execution_count": 40,
     "metadata": {},
     "output_type": "execute_result"
    }
   ],
   "source": [
    "ttl_file = \"graph.ttl\"\n",
    "g.serialize(destination=ttl_file, format=\"turtle\")"
   ]
  }
 ],
 "metadata": {
  "kernelspec": {
   "display_name": "Python 3.10.5 64-bit",
   "language": "python",
   "name": "python3"
  },
  "language_info": {
   "codemirror_mode": {
    "name": "ipython",
    "version": 3
   },
   "file_extension": ".py",
   "mimetype": "text/x-python",
   "name": "python",
   "nbconvert_exporter": "python",
   "pygments_lexer": "ipython3",
   "version": "3.10.5"
  },
  "vscode": {
   "interpreter": {
    "hash": "86a7600eabecf3dbcbf5a60340165768a3f6b7991c3d2be0d9a303a25788bd38"
   }
  }
 },
 "nbformat": 4,
 "nbformat_minor": 5
}
