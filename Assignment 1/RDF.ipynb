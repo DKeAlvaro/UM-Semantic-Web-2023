{
 "cells": [
  {
   "cell_type": "code",
   "execution_count": 4,
   "metadata": {},
   "outputs": [],
   "source": [
    "from rdflib import URIRef, BNode, Literal, Namespace, Graph\n",
    "from rdflib.namespace import FOAF, DCTERMS, XSD, RDF, SDO\n",
    "\n",
    "g = Graph()\n",
    "amazon = Namespace('https://www.amazon.nl/-/en/')\n",
    "g.bind('Amazon', amazon)\n"
   ]
  },
  {
   "cell_type": "code",
   "execution_count": 5,
   "id": "27d58e52",
   "metadata": {},
   "outputs": [],
   "source": [
    "product = URIRef('https://dbpedia.org/ontology/product')\n",
    "category = URIRef('https://dbpedia.org/ontology/category')\n",
    "subProduct = URIRef('https://dbpedia.org/page/Subclass') # TODO: make sure this is correct \n",
    "brand = URIRef('https://dbpedia.org/page/Brand')"
   ]
  },
  {
   "cell_type": "code",
   "execution_count": 6,
   "id": "a7011bb2",
   "metadata": {},
   "outputs": [],
   "source": [
    "amazon = Namespace('https://www.amazon.nl/-/en/')\n",
    "\n",
    "books = amazon['gp/browse.html?node=16241779031&ref_=nav_em_bo_all_0_2_7_2']\n",
    "electronics = amazon['gp/browse.html?node=16269066031&ref_=nav_em_el_all_electronics_0_2_9_2']\n",
    "grocery = amazon['gp/browse.html?node=16242078031&ref_=nav_em_fg_groc_0_2_15_2']"
   ]
  },
  {
   "cell_type": "code",
   "execution_count": 7,
   "id": "88710140",
   "metadata": {},
   "outputs": [],
   "source": [
    "# Books: \n",
    "bbc = amazon['David-Sedgwick/dp/1999359100/ref=sr_1_1?brr=1&pf_rd_i=16241779031&pf_rd_m=AC5DXSR5G8JPX&pf_rd_p=d096af3d-5217-40e5-9467-07f7f306b0a1&pf_rd_r=DJKJ5TZZTJ08RD8QAWMT&pf_rd_s=merchandised-search-3&pf_rd_t=101&qid=1694510037&rd=1&s=books&sr=1-1']\n",
    "answer = amazon['Mira-Markovic/dp/1550821695/ref=sr_1_2?brr=1&pf_rd_i=16241779031&pf_rd_m=AC5DXSR5G8JPX&pf_rd_p=d096af3d-5217-40e5-9467-07f7f306b0a1&pf_rd_r=DJKJ5TZZTJ08RD8QAWMT&pf_rd_s=merchandised-search-3&pf_rd_t=101&qid=1694510037&rd=1&s=books&sr=1-2']\n",
    "who_comes_next = amazon['Meridith-Elliott-Powell-Mba-Csp/dp/1640953884/ref=sr_1_3?brr=1&pf_rd_i=16241779031&pf_rd_m=AC5DXSR5G8JPX&pf_rd_p=d096af3d-5217-40e5-9467-07f7f306b0a1&pf_rd_r=DJKJ5TZZTJ08RD8QAWMT&pf_rd_s=merchandised-search-3&pf_rd_t=101&qid=1694510037&rd=1&s=books&sr=1-3']\n",
    "\n",
    "# Electronics:\n",
    "laptop = amazon['Apple-MacBook-Air-Laptop-Keyboard/dp/B08N5Y9H7G/ref=sr_1_5?crid=1A2KOFTTOJ21H&keywords=laptop+macbook&qid=1695022134&sprefix=laptop+macbook%2Caps%2C117&sr=8-5']\n",
    "phone = amazon['MU1F3ZD-A/dp/B0CHX2FWRJ/ref=sr_1_3_sspa?crid=3V3D3O0RYA4E2&keywords=iphone&qid=1695023174&sprefix=iphone%2Caps%2C131&sr=8-3-spons&sp_csd=d2lkZ2V0TmFtZT1zcF9hdGY&psc=1']\n",
    "camera = amazon['Megapixel-Vari-Angle-Display-Full-HD-Bluetooth/dp/B07QJ21YQ6/ref=sr_1_1_sspa?crid=1GCH66V1EKYSE&keywords=camera&qid=1695023879&sprefix=camer%2Caps%2C144&sr=8-1-spons&sp_csd=d2lkZ2V0TmFtZT1zcF9hdGY&th=1']\n",
    "\n",
    "# Groceries: \n",
    "kinder_bueno = amazon['Ferrero-Chocolate-hazelnuts-covered-chocolate/dp/B084ZQ623N?ref_=Oct_d_omwf_d_84749517031_0&pd_rd_w=2qxtw&content-id=amzn1.sym.23330388-7c1e-435c-88d3-ba35c945b7fe&pf_rd_p=23330388-7c1e-435c-88d3-ba35c945b7fe&pf_rd_r=S5JAVRET9XHZKX3KHYQR&pd_rd_wg=NA8rv&pd_rd_r=62c5968f-d066-4506-abe3-24884f0d4db4&pd_rd_i=B084ZQ623N']\n",
    "doritos = amazon['Doritos-Bits-Sweet-Paprika-Chips/dp/B004HFKVI0?ref_=Oct_d_omwf_d_16462764031_0&pd_rd_w=oBJuB&content-id=amzn1.sym.23330388-7c1e-435c-88d3-ba35c945b7fe&pf_rd_p=23330388-7c1e-435c-88d3-ba35c945b7fe&pf_rd_r=1HFH0S57DY8N9C2ZSN6A&pd_rd_wg=a3VYG&pd_rd_r=89a1538e-c235-447e-bc85-4e8692c2ee5e&pd_rd_i=B004HFKVI0']\n",
    "acai = amazon['Organic-Acai-Berry-Powder-Freeze-dried/dp/B079GX1W3W?ref_=Oct_d_otopr_d_16462867031_3&pd_rd_w=8lPNg&content-id=amzn1.sym.cc6bb163-55ad-4f4e-881d-b98063979b38&pf_rd_p=cc6bb163-55ad-4f4e-881d-b98063979b38&pf_rd_r=G46CGXZDPE28JGVV6EX8&pd_rd_wg=qn8Ua&pd_rd_r=314444db-03e0-47b0-b5bd-84ff35a2df9e&pd_rd_i=B079GX1W3W']"
   ]
  },
  {
   "cell_type": "markdown",
   "id": "269dbafa",
   "metadata": {},
   "source": [
    "##### Adding all categories and their respective products "
   ]
  },
  {
   "cell_type": "code",
   "execution_count": 8,
   "id": "aad2abf2",
   "metadata": {},
   "outputs": [
    {
     "data": {
      "text/plain": [
       "<Graph identifier=N5f3e11c77b7b45a0bcc345f6d062ad9d (<class 'rdflib.graph.Graph'>)>"
      ]
     },
     "execution_count": 8,
     "metadata": {},
     "output_type": "execute_result"
    }
   ],
   "source": [
    "g.bind('Amazon', amazon)\n",
    "# ----------------------------------------------\n",
    "g.add((books, RDF.type, category))\n",
    "\n",
    "g.add((bbc, RDF.type, product))\n",
    "g.add((answer, RDF.type, product))\n",
    "g.add((who_comes_next, RDF.type, product))\n",
    "\n",
    "g.add((books, SDO.offers, bbc))\n",
    "g.add((books, SDO.offers, answer))\n",
    "g.add((books, SDO.offers, who_comes_next))\n",
    "\n",
    "g.add((bbc, subProduct, books))\n",
    "g.add((answer, subProduct, books))\n",
    "g.add((who_comes_next, subProduct, books))\n",
    "# ----------------------------------------------\n",
    "g.add((electronics, RDF.type, category))\n",
    "\n",
    "g.add((laptop, RDF.type, product))\n",
    "g.add((phone, RDF.type, product))\n",
    "g.add((camera, RDF.type, product))\n",
    "\n",
    "g.add((electronics, SDO.offers, laptop))\n",
    "g.add((electronics, SDO.offers, phone))\n",
    "g.add((electronics, SDO.offers, camera))\n",
    "\n",
    "g.add((laptop, subProduct, electronics))\n",
    "g.add((phone, subProduct, electronics))\n",
    "g.add((camera, subProduct, electronics))\n",
    "# ----------------------------------------------\n",
    "g.add((grocery, RDF.type, category))\n",
    "\n",
    "g.add((kinder_bueno, RDF.type, product))\n",
    "g.add((doritos, RDF.type, product))\n",
    "g.add((acai, RDF.type, product))\n",
    "\n",
    "g.add((grocery, SDO.offers, kinder_bueno))\n",
    "g.add((grocery, SDO.offers, doritos))\n",
    "g.add((grocery, SDO.offers, acai))\n",
    "\n",
    "g.add((kinder_bueno, subProduct, grocery))\n",
    "g.add((doritos, subProduct, grocery))\n",
    "g.add((acai, subp, grocery))"
   ]
  },
  {
   "cell_type": "markdown",
   "id": "19eb3425",
   "metadata": {},
   "source": [
    "##### For every product, add (at least) five object properties "
   ]
  },
  {
   "cell_type": "code",
   "execution_count": 9,
   "id": "6f23460e",
   "metadata": {},
   "outputs": [],
   "source": [
    "# non-literal types \n",
    "operatingSystem = URIRef('https://schema.org/operatingSystem')\n",
    "color = URIRef('https://schema.org/color')\n",
    "cpu = URIRef('https://dbpedia.org/page/Central_processing_unit')\n",
    "display = URIRef('https://dbpedia.org/property/display')\n",
    "password = URIRef('https://dbpedia.org/page/Password')\n",
    "shutter = URIRef('https://dbpedia.org/page/Shutter_(photography)')\n",
    "image_type = URIRef('https://dbpedia.org/page/Image_file_format')\n",
    "video_type = URIRef('https://dbpedia.org/page/Category:Motion_picture_film_formats')\n",
    "software = URIRef('https://dbpedia.org/page/Software')"
   ]
  },
  {
   "cell_type": "code",
   "execution_count": 10,
   "id": "91dce21c",
   "metadata": {},
   "outputs": [],
   "source": [
    "# literals \n",
    "price = URIRef('https://schema.org/price')\n",
    "name = URIRef('https://dbpedia.org/property/name')"
   ]
  },
  {
   "cell_type": "markdown",
   "id": "6da21e94",
   "metadata": {},
   "source": [
    "Laptop"
   ]
  },
  {
   "cell_type": "code",
   "execution_count": 11,
   "id": "ba1d59fc",
   "metadata": {},
   "outputs": [
    {
     "data": {
      "text/plain": [
       "<Graph identifier=N5f3e11c77b7b45a0bcc345f6d062ad9d (<class 'rdflib.graph.Graph'>)>"
      ]
     },
     "execution_count": 11,
     "metadata": {},
     "output_type": "execute_result"
    }
   ],
   "source": [
    "macOS = URIRef('https://apps.apple.com/us/app/macos-mojave/id1398502828?mt=12')\n",
    "m1 = URIRef('https://en.wikipedia.org/wiki/Apple_M1')\n",
    "apple = URIRef('https://www.apple.com/by/')\n",
    "retina = URIRef('https://en.wikipedia.org/wiki/Retina_display')\n",
    "touch_ID = URIRef('https://en.wikipedia.org/wiki/Touch_ID')\n",
    "\n",
    "g.add((laptop, operatingSystem, macOS))\n",
    "g.add((laptop, cpu, m1))\n",
    "g.add((laptop, brand, apple))\n",
    "g.add((laptop, display, retina))\n",
    "g.add((laptop, password, touch_ID))\n",
    "g.add((laptop, name, Literal('MacBook Air')))\n",
    "g.add((laptop, price, Literal(919.00, datatype=XSD.float)))"
   ]
  },
  {
   "cell_type": "markdown",
   "id": "e63610bf",
   "metadata": {},
   "source": [
    "Phone"
   ]
  },
  {
   "cell_type": "code",
   "execution_count": 13,
   "id": "b1310dc6",
   "metadata": {},
   "outputs": [
    {
     "data": {
      "text/plain": [
       "<Graph identifier=N5f3e11c77b7b45a0bcc345f6d062ad9d (<class 'rdflib.graph.Graph'>)>"
      ]
     },
     "execution_count": 13,
     "metadata": {},
     "output_type": "execute_result"
    }
   ],
   "source": [
    "pro_display = URIRef('https://en.wikipedia.org/wiki/Pro_Display_XDR')\n",
    "face_id = URIRef('https://en.wikipedia.org/wiki/Face_ID')\n",
    "hexa_core = URIRef('https://en.wikichip.org/wiki/hexa-core')\n",
    "ios17 = URIRef('https://www.apple.com/ios/ios-17/')\n",
    "\n",
    "g.add((phone, brand, apple))\n",
    "g.add((phone, display, pro_display))\n",
    "g.add((phone, password, face_id))\n",
    "g.add((phone, cpu, hexa_core))\n",
    "g.add((phone, operatingSystem, ios17))\n",
    "g.add((phone, name, Literal('iPhone 15 Plus')))\n",
    "g.add((phone, price, Literal(1249.00, datatype=XSD.float)))"
   ]
  },
  {
   "cell_type": "markdown",
   "id": "1c952c15",
   "metadata": {},
   "source": [
    "Camera"
   ]
  },
  {
   "cell_type": "code",
   "execution_count": null,
   "id": "afbf32f2",
   "metadata": {},
   "outputs": [],
   "source": [
    "canon = URIRef('https://www.canon.nl/')\n",
    "focal_plane = URIRef('https://en.wikipedia.org/wiki/Focal-plane_shutter')\n",
    "jpeg = URIRef('https://en.wikipedia.org/wiki/JPEG')\n",
    "mp4 = URIRef('https://en.wikipedia.org/wiki/MP4_file_format')\n",
    "dpp = URIRef('https://www.canon-europe.com/support/consumer_products/software/digital-photo-professional.html?softwareid=tcm:13-1328049&language=EN&os=all')\n",
    "\n",
    "g.add((camera, brand, canon))\n",
    "g.add((camera, shutter, focal_plane))\n",
    "g.add((camera, image_type, jpeg))\n",
    "g.add((camera, video_type, mp4))\n",
    "g.add((camera, software, dpp))\n",
    "g.add((camera, name, Literal('EOS 250D')))\n",
    "g.add((camera, price, Literal(695.99, datatype=XSD.float)))"
   ]
  },
  {
   "cell_type": "code",
   "execution_count": 12,
   "id": "d5bb553d",
   "metadata": {},
   "outputs": [
    {
     "data": {
      "text/plain": [
       "<Graph identifier=N5f3e11c77b7b45a0bcc345f6d062ad9d (<class 'rdflib.graph.Graph'>)>"
      ]
     },
     "execution_count": 12,
     "metadata": {},
     "output_type": "execute_result"
    }
   ],
   "source": [
    "g.add((apple, RDF.type, brand))\n",
    "g.add((canon, RDF.type, brand))"
   ]
  }
 ],
 "metadata": {
  "kernelspec": {
   "display_name": "Python 3",
   "language": "python",
   "name": "python3"
  },
  "language_info": {
   "codemirror_mode": {
    "name": "ipython",
    "version": 3
   },
   "file_extension": ".py",
   "mimetype": "text/x-python",
   "name": "python",
   "nbconvert_exporter": "python",
   "pygments_lexer": "ipython3",
   "version": "3.11.3"
  }
 },
 "nbformat": 4,
 "nbformat_minor": 5
}
