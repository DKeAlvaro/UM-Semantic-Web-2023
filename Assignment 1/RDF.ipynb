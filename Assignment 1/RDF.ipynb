{
 "cells": [
  {
   "cell_type": "code",
   "execution_count": 3,
   "metadata": {},
   "outputs": [],
   "source": [
    "from rdflib import URIRef, BNode, Literal, Namespace, Graph\n",
    "from rdflib.namespace import FOAF, DCTERMS, XSD, RDF, SDO\n",
    "\n",
    "g = Graph()"
   ]
  },
  {
   "cell_type": "markdown",
   "id": "a16d3a01",
   "metadata": {},
   "source": [
    "##### Setting the namespace and categories"
   ]
  },
  {
   "cell_type": "code",
   "execution_count": 5,
   "id": "a7011bb2",
   "metadata": {},
   "outputs": [],
   "source": [
    "amazon = Namespace('https://www.amazon.nl/-/en/')\n",
    "\n",
    "books = amazon['gp/browse.html?node=16241779031&ref_=nav_em_bo_all_0_2_7_2']\n",
    "electronics = amazon['gp/browse.html?node=16269066031&ref_=nav_em_el_all_electronics_0_2_9_2']\n",
    "grocery = amazon['gp/browse.html?node=16242078031&ref_=nav_em_fg_groc_0_2_15_2']"
   ]
  },
  {
   "cell_type": "markdown",
   "id": "14dc2bfa",
   "metadata": {},
   "source": [
    "##### Setting products for categories "
   ]
  },
  {
   "cell_type": "code",
   "execution_count": 6,
   "id": "88710140",
   "metadata": {},
   "outputs": [],
   "source": [
    "# Books: \n",
    "bbc = amazon['David-Sedgwick/dp/1999359100/ref=sr_1_1?brr=1&pf_rd_i=16241779031&pf_rd_m=AC5DXSR5G8JPX&pf_rd_p=d096af3d-5217-40e5-9467-07f7f306b0a1&pf_rd_r=DJKJ5TZZTJ08RD8QAWMT&pf_rd_s=merchandised-search-3&pf_rd_t=101&qid=1694510037&rd=1&s=books&sr=1-1']\n",
    "answer = amazon['Mira-Markovic/dp/1550821695/ref=sr_1_2?brr=1&pf_rd_i=16241779031&pf_rd_m=AC5DXSR5G8JPX&pf_rd_p=d096af3d-5217-40e5-9467-07f7f306b0a1&pf_rd_r=DJKJ5TZZTJ08RD8QAWMT&pf_rd_s=merchandised-search-3&pf_rd_t=101&qid=1694510037&rd=1&s=books&sr=1-2']\n",
    "who_comes_next = amazon['Meridith-Elliott-Powell-Mba-Csp/dp/1640953884/ref=sr_1_3?brr=1&pf_rd_i=16241779031&pf_rd_m=AC5DXSR5G8JPX&pf_rd_p=d096af3d-5217-40e5-9467-07f7f306b0a1&pf_rd_r=DJKJ5TZZTJ08RD8QAWMT&pf_rd_s=merchandised-search-3&pf_rd_t=101&qid=1694510037&rd=1&s=books&sr=1-3']\n",
    "\n",
    "# Electronics:\n",
    "laptop = amazon['Microsoft-Notebook-Platinum-Touchscreen-LPDDR4x-SDRAM/dp/B08J49VFNG/ref=sr_1_1?pf_rd_i=16366027031&pf_rd_m=AC5DXSR5G8JPX&pf_rd_p=5e2578d0-0b65-43cf-9532-cdebabd6f2e1&pf_rd_r=03FERQKQ7N3PKV2R6RYD&pf_rd_s=merchandised-search-3&pf_rd_t=101&qid=1694510161&refinements=p_n_feature_nineteen_browse-bin%3A16365374031&s=electronics&sr=1-1&th=1']\n",
    "phone = amazon['dp/B08BPJXQZM/ref=s9_acsd_al_bw_c2_x_1_i?pf_rd_m=AC5DXSR5G8JPX&pf_rd_s=merchandised-search-3&pf_rd_r=B4CY0MCDD05JJBBBR01R&pf_rd_t=101&pf_rd_p=94042d33-4bb7-41f1-90b8-0af7cc574e3b&pf_rd_i=16365984031&th=1']\n",
    "camera = amazon['Digital-Vlogging-Portable-Batteries-Beginners/dp/B0BHSNSGP6?ref_=Oct_d_otopr_d_16366007031_0&pd_rd_w=7WeJG&content-id=amzn1.sym.cc6bb163-55ad-4f4e-881d-b98063979b38&pf_rd_p=cc6bb163-55ad-4f4e-881d-b98063979b38&pf_rd_r=FB7V4MQJQ8EEH6KFN28C&pd_rd_wg=LzUVf&pd_rd_r=e9af54d5-1d54-46f9-a330-303ddb90bd4f&pd_rd_i=B0BHSNSGP6&th=1']\n",
    "\n",
    "# Groceries: \n",
    "kinder_bueno = amazon['Ferrero-Chocolate-hazelnuts-covered-chocolate/dp/B084ZQ623N?ref_=Oct_d_omwf_d_84749517031_0&pd_rd_w=2qxtw&content-id=amzn1.sym.23330388-7c1e-435c-88d3-ba35c945b7fe&pf_rd_p=23330388-7c1e-435c-88d3-ba35c945b7fe&pf_rd_r=S5JAVRET9XHZKX3KHYQR&pd_rd_wg=NA8rv&pd_rd_r=62c5968f-d066-4506-abe3-24884f0d4db4&pd_rd_i=B084ZQ623N']\n",
    "doritos = amazon['Doritos-Bits-Sweet-Paprika-Chips/dp/B004HFKVI0?ref_=Oct_d_omwf_d_16462764031_0&pd_rd_w=oBJuB&content-id=amzn1.sym.23330388-7c1e-435c-88d3-ba35c945b7fe&pf_rd_p=23330388-7c1e-435c-88d3-ba35c945b7fe&pf_rd_r=1HFH0S57DY8N9C2ZSN6A&pd_rd_wg=a3VYG&pd_rd_r=89a1538e-c235-447e-bc85-4e8692c2ee5e&pd_rd_i=B004HFKVI0']\n",
    "acai = amazon['Organic-Acai-Berry-Powder-Freeze-dried/dp/B079GX1W3W?ref_=Oct_d_otopr_d_16462867031_3&pd_rd_w=8lPNg&content-id=amzn1.sym.cc6bb163-55ad-4f4e-881d-b98063979b38&pf_rd_p=cc6bb163-55ad-4f4e-881d-b98063979b38&pf_rd_r=G46CGXZDPE28JGVV6EX8&pd_rd_wg=qn8Ua&pd_rd_r=314444db-03e0-47b0-b5bd-84ff35a2df9e&pd_rd_i=B079GX1W3W']"
   ]
  },
  {
   "cell_type": "markdown",
   "id": "06ed928c",
   "metadata": {},
   "source": [
    "##### Setting the classes"
   ]
  },
  {
   "cell_type": "code",
   "execution_count": 10,
   "id": "07f95c14",
   "metadata": {},
   "outputs": [],
   "source": [
    "category = URIRef('https://schema.org/category')\n",
    "product = URIRef('https://schema.org/Product')\n",
    "brand = URIRef('https://schema.org/Brand')"
   ]
  },
  {
   "cell_type": "markdown",
   "id": "269dbafa",
   "metadata": {},
   "source": [
    "##### Adding all categories and their respective products "
   ]
  },
  {
   "cell_type": "code",
   "execution_count": 11,
   "id": "aad2abf2",
   "metadata": {},
   "outputs": [
    {
     "data": {
      "text/plain": [
       "<Graph identifier=N6b005503c5eb4f88b23083e262f124e1 (<class 'rdflib.graph.Graph'>)>"
      ]
     },
     "execution_count": 11,
     "metadata": {},
     "output_type": "execute_result"
    }
   ],
   "source": [
    "g.bind('Amazon', amazon)\n",
    "# ----------------------------------------------\n",
    "g.add((books, RDF.type, category))\n",
    "\n",
    "g.add((bbc, RDF.type, product))\n",
    "g.add((answer, RDF.type, product))\n",
    "g.add((who_comes_next, RDF.type, product))\n",
    "\n",
    "g.add((books, SDO.offers, bbc))\n",
    "g.add((books, SDO.offers, answer))\n",
    "g.add((books, SDO.offers, who_comes_next))\n",
    "# ----------------------------------------------\n",
    "g.add((electronics, RDF.type, category))\n",
    "\n",
    "g.add((laptop, RDF.type, product))\n",
    "g.add((phone, RDF.type, product))\n",
    "g.add((camera, RDF.type, product))\n",
    "\n",
    "g.add((electronics, SDO.offers, laptop))\n",
    "g.add((electronics, SDO.offers, phone))\n",
    "g.add((electronics, SDO.offers, camera))\n",
    "# ----------------------------------------------\n",
    "g.add((grocery, RDF.type, category))\n",
    "\n",
    "g.add((kinder_bueno, RDF.type, product))\n",
    "g.add((doritos, RDF.type, product))\n",
    "g.add((acai, RDF.type, product))\n",
    "\n",
    "g.add((grocery, SDO.offers, kinder_bueno))\n",
    "g.add((grocery, SDO.offers, doritos))\n",
    "g.add((grocery, SDO.offers, acai))"
   ]
  },
  {
   "cell_type": "markdown",
   "id": "19eb3425",
   "metadata": {},
   "source": [
    "##### For every product, add (at least) five data properties "
   ]
  },
  {
   "cell_type": "markdown",
   "id": "6da21e94",
   "metadata": {},
   "source": [
    "Laptop"
   ]
  },
  {
   "cell_type": "code",
   "execution_count": null,
   "id": "ba1d59fc",
   "metadata": {},
   "outputs": [],
   "source": [
    "hasOperatingSystem = URIRef('https://schema.org/operatingSystem')\n",
    "hasPrice = URIRef('https://schema.org/price')\n",
    "hasColor = URIRef('https://schema.org/color')\n",
    "\n",
    "windows10 = URIRef('https://example.org/Windows10')\n",
    "platinum = URIRef('https://example.org/platinumPlated')  \n",
    "microsoft = URIRef('https://example.org/microsoft')  \n",
    "euros_405 = URIRef('https://example.org/405.68euros') \n",
    "\n",
    "g.add((laptop, hasOperatingSystem, windows10))\n",
    "g.add((laptop, brand, microsoft))\n",
    "g.add((laptop, hasPrice, euros_405))\n",
    "g.add((laptop, hasColor, platinum))\n"
   ]
  },
  {
   "cell_type": "code",
   "execution_count": null,
   "id": "050266f6",
   "metadata": {},
   "outputs": [],
   "source": [
    "# i dont know if we're supposed to do this tell me if it's correct pls\n",
    "g.add(microsoft, RDF.type, brand)"
   ]
  },
  {
   "cell_type": "markdown",
   "id": "e63610bf",
   "metadata": {},
   "source": [
    "Phone"
   ]
  },
  {
   "cell_type": "code",
   "execution_count": null,
   "id": "ea7f3387",
   "metadata": {},
   "outputs": [],
   "source": [
    "android = URIRef('https://example.org/Android')\n",
    "blue_marbel = URIRef('https://example.org/blueMarbel')\n",
    "oneplus = URIRef('https://example.org/onePlus')\n",
    "euros_456 = URIRef('https://example.org/456.08euros')\n",
    "\n",
    "g.add(phone, hasOperatingSystem, android)\n",
    "g.add(phone, brand, oneplus) \n",
    "g.add(phone, hasColor, blue_marbel)\n",
    "g.add(phone, hasPrice, euros_456)"
   ]
  },
  {
   "cell_type": "markdown",
   "id": "1c952c15",
   "metadata": {},
   "source": [
    "Camera"
   ]
  },
  {
   "cell_type": "code",
   "execution_count": null,
   "id": "202c1ea7",
   "metadata": {},
   "outputs": [],
   "source": [
    "hasCountryOfOrigin = URIRef('https://schema.org/countryOfOrigin')\n",
    "\n",
    "pink = URIRef('https://example.org/pink')\n",
    "china = URIRef('https://example.org/China')\n",
    "euros_64 = URIRef('https://example.org/64.99euros')\n",
    "camera_brand = URIRef('https://example.org/DPFIHRGO')\n",
    "\n",
    "g.add(camera, hasColor, pink)\n",
    "g.add(camera, hasCountryOfOrigin, china)\n",
    "g.add(camera, hasPrice, euros_64)\n",
    "g.add(camera, brand, camera_brand)"
   ]
  }
 ],
 "metadata": {
  "kernelspec": {
   "display_name": "Python 3",
   "language": "python",
   "name": "python3"
  },
  "language_info": {
   "codemirror_mode": {
    "name": "ipython",
    "version": 3
   },
   "file_extension": ".py",
   "mimetype": "text/x-python",
   "name": "python",
   "nbconvert_exporter": "python",
   "pygments_lexer": "ipython3",
   "version": "3.11.3"
  }
 },
 "nbformat": 4,
 "nbformat_minor": 5
}
