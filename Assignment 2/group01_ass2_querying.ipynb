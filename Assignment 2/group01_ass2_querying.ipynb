{
  "cells": [
    {
      "cell_type": "markdown",
      "metadata": {},
      "source": [
        "### Assignment 2 \n",
        "#### SPARQL Queries"
      ]
    },
    {
      "cell_type": "code",
      "execution_count": null,
      "metadata": {},
      "outputs": [],
      "source": [
        "from rdflib import Graph, Literal, URIRef\n",
        "from rdflib.plugins.sparql import prepareQuery"
      ]
    },
    {
      "cell_type": "code",
      "execution_count": null,
      "metadata": {},
      "outputs": [],
      "source": [
        "g = Graph()\n",
        "g.parse('graph.ttl', format='turtle')"
      ]
    },
    {
      "cell_type": "markdown",
      "metadata": {},
      "source": [
        "##### Provide categories, subcategories, and brand for a random item"
      ]
    },
    {
      "cell_type": "code",
      "execution_count": null,
      "metadata": {},
      "outputs": [],
      "source": [
        "query_a = \"\"\"\n",
        "SELECT ?item ?category ?subcategory ?item_brand\n",
        "WHERE {\n",
        "  BIND (MNJP3NF-A/dp/B0BDJFLR1F/ref=sr_1_5?crid=377I992WX3F4U&keywords=apple+watch&qid=1696411168&sprefix=appl%2Caps%2C150&sr=8-5 AS ?item) .\n",
        "  ?item rdf:type ?category .\n",
        "  ?category rdfs:subClassOf <gp/browse.html?node=16241721031&ref_=nav_em_hb_beauty_0_2_16_2> .\n",
        "  ?item brand ?item_brand .\n",
        "}\n",
        "LIMIT 1\n",
        "\"\"\"\n",
        "\n",
        "qres = g.query(query_a)\n",
        "for row in qres:\n",
        "    print(f\"{row.fname} {row.lname}\")\n",
        "# OPTIONAL {\n",
        "#     ?category ex:hasSubcategory ?subcategory .\n",
        "#     ?subcategory rdfs:subClassOf* ex:Category .\n",
        "#   }"
      ]
    },
    {
      "cell_type": "markdown",
      "metadata": {},
      "source": [
        "##### Items from different subcategories with the same brand"
      ]
    },
    {
      "cell_type": "code",
      "execution_count": null,
      "metadata": {},
      "outputs": [],
      "source": [
        "query_b = \"\"\"\n",
        "SELECT ?item1 ?item2 ?brand\n",
        "WHERE {\n",
        "  ?item1 rdf:type ex:Item .\n",
        "  ?item2 rdf:type ex:Item .\n",
        "  ?item1 ex:hasBrand ?brand .\n",
        "  ?item2 ex:hasBrand ?brand .\n",
        "  ?item1 ex:hasCategory ?category1 .\n",
        "  ?item2 ex:hasCategory ?category2 .\n",
        "  FILTER (?item1 != ?item2 && ?category1 != ?category2)\n",
        "}\n",
        "LIMIT 10\n",
        "\"\"\"\n",
        "\n",
        "qres = g.query(query_b)\n",
        "for row in qres:\n",
        "    print(f\"{row.fname} {row.lname}\")"
      ]
    },
    {
      "cell_type": "markdown",
      "metadata": {},
      "source": [
        "##### Group products by brand and calculate average price or rating"
      ]
    },
    {
      "cell_type": "code",
      "execution_count": null,
      "metadata": {},
      "outputs": [],
      "source": [
        "query_c = \"\"\"\n",
        "SELECT ?brand (AVG(?price) AS ?avgPrice) (AVG(?rating) AS ?avgRating)\n",
        "WHERE {\n",
        "  ?item rdf:type ex:Item .\n",
        "  ?item ex:hasBrand ?brand .\n",
        "  OPTIONAL { ?item ex:hasPrice ?price . }\n",
        "  OPTIONAL { ?item ex:hasRating ?rating . }\n",
        "}\n",
        "GROUP BY ?brand\n",
        "\"\"\"\n",
        "\n",
        "qres = g.query(query_c)\n",
        "for row in qres:\n",
        "    print(f\"{row.fname} {row.lname}\")"
      ]
    },
    {
      "cell_type": "markdown",
      "metadata": {},
      "source": [
        "##### Sort products in one category by average brand price or rating"
      ]
    },
    {
      "cell_type": "code",
      "execution_count": null,
      "metadata": {},
      "outputs": [],
      "source": [
        "query_d = \"\"\"\n",
        "SELECT ?item ?brand (AVG(?price) AS ?avgPrice) (AVG(?rating) AS ?avgRating)\n",
        "WHERE {\n",
        "  ?item rdf:type ex:Item .\n",
        "  ?item ex:hasBrand ?brand .\n",
        "  ?item ex:hasCategory ex:SelectedCategory .\n",
        "  OPTIONAL { ?item ex:hasPrice ?price . }\n",
        "  OPTIONAL { ?item ex:hasRating ?rating . }\n",
        "}\n",
        "GROUP BY ?item ?brand\n",
        "ORDER BY DESC(?avgPrice) # or DESC(?avgRating)\n",
        "LIMIT 10\n",
        "\"\"\"\n",
        "\n",
        "qres = g.query(query_d)\n",
        "for row in qres:\n",
        "    print(f\"{row.fname} {row.lname}\")"
      ]
    },
    {
      "cell_type": "markdown",
      "metadata": {},
      "source": [
        "#### Plain English Question: Find items frequently bought together with \"ItemX.\""
      ]
    },
    {
      "cell_type": "code",
      "execution_count": null,
      "metadata": {},
      "outputs": [],
      "source": [
        "query_h = \"\"\"\n",
        "SELECT ?item\n",
        "WHERE {\n",
        "  ?order rdf:type ns:Order ;\n",
        "         ns:contains ?itemX, ?itemY ;\n",
        "         ns:orderedBy ?customer .\n",
        "\n",
        "  ?order2 rdf:type ns:Order ;\n",
        "          ns:contains ?itemX, ?itemZ ;\n",
        "          ns:orderedBy ?customer .\n",
        "  FILTER (?itemY != ?itemZ)\n",
        "}\n",
        "GROUP BY ?item\n",
        "ORDER BY COUNT(?customer) DESC\n",
        "\"\"\"\n",
        "\n",
        "qres = g.query(query_d)\n",
        "for row in qres:\n",
        "    print(f\"{row.fname} {row.lname}\")"
      ]
    }
  ],
  "metadata": {
    "colab": {
      "collapsed_sections": [],
      "provenance": []
    },
    "kernelspec": {
      "display_name": "Python 3.10.6 64-bit",
      "language": "python",
      "name": "python3"
    },
    "language_info": {
      "codemirror_mode": {
        "name": "ipython",
        "version": 3
      },
      "file_extension": ".py",
      "mimetype": "text/x-python",
      "name": "python",
      "nbconvert_exporter": "python",
      "pygments_lexer": "ipython3",
      "version": "3.11.3"
    },
    "vscode": {
      "interpreter": {
        "hash": "fd9f7c313d852cfaa2936a8f1c936400b024aef9b1419cae2b7511e9f21182ca"
      }
    }
  },
  "nbformat": 4,
  "nbformat_minor": 0
}
