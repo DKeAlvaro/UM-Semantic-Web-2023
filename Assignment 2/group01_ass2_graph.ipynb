{
  "cells": [
    {
      "cell_type": "markdown",
      "metadata": {},
      "source": [
        "### Semantic Web\n",
        "#### assignment 2"
      ]
    },
    {
      "cell_type": "code",
      "execution_count": 1,
      "metadata": {},
      "outputs": [
        {
          "name": "stdout",
          "output_type": "stream",
          "text": [
            "Requirement already satisfied: wikidataintegrator in /opt/homebrew/lib/python3.11/site-packages (0.9.30)\n",
            "Requirement already satisfied: requests in /opt/homebrew/lib/python3.11/site-packages (from wikidataintegrator) (2.31.0)\n",
            "Requirement already satisfied: python-dateutil in /Users/achiot/Library/Python/3.11/lib/python/site-packages (from wikidataintegrator) (2.8.2)\n",
            "Requirement already satisfied: simplejson in /opt/homebrew/lib/python3.11/site-packages (from wikidataintegrator) (3.19.1)\n",
            "Requirement already satisfied: pandas in /opt/homebrew/lib/python3.11/site-packages (from wikidataintegrator) (2.0.2)\n",
            "Requirement already satisfied: tqdm in /opt/homebrew/lib/python3.11/site-packages (from wikidataintegrator) (4.66.1)\n",
            "Requirement already satisfied: mwoauth in /opt/homebrew/lib/python3.11/site-packages (from wikidataintegrator) (0.3.8)\n",
            "Requirement already satisfied: oauthlib in /opt/homebrew/lib/python3.11/site-packages (from wikidataintegrator) (3.2.2)\n",
            "Requirement already satisfied: jsonasobj in /opt/homebrew/lib/python3.11/site-packages (from wikidataintegrator) (1.3.1)\n",
            "Requirement already satisfied: pyshex in /opt/homebrew/lib/python3.11/site-packages (from wikidataintegrator) (0.8.1)\n",
            "Requirement already satisfied: backoff in /opt/homebrew/lib/python3.11/site-packages (from wikidataintegrator) (2.2.1)\n",
            "Requirement already satisfied: shexer in /opt/homebrew/lib/python3.11/site-packages (from wikidataintegrator) (2.2.0)\n",
            "Requirement already satisfied: PyJWT>=1.0.1 in /opt/homebrew/lib/python3.11/site-packages (from mwoauth->wikidataintegrator) (2.8.0)\n",
            "Requirement already satisfied: requests-oauthlib in /opt/homebrew/lib/python3.11/site-packages (from mwoauth->wikidataintegrator) (1.3.1)\n",
            "Requirement already satisfied: six in /Users/achiot/Library/Python/3.11/lib/python/site-packages (from mwoauth->wikidataintegrator) (1.16.0)\n",
            "Requirement already satisfied: pytz>=2020.1 in /opt/homebrew/lib/python3.11/site-packages (from pandas->wikidataintegrator) (2023.3)\n",
            "Requirement already satisfied: tzdata>=2022.1 in /opt/homebrew/lib/python3.11/site-packages (from pandas->wikidataintegrator) (2023.3)\n",
            "Requirement already satisfied: numpy>=1.21.0 in /opt/homebrew/lib/python3.11/site-packages (from pandas->wikidataintegrator) (1.24.3)\n",
            "Requirement already satisfied: cfgraph>=0.2.1 in /opt/homebrew/lib/python3.11/site-packages (from pyshex->wikidataintegrator) (0.2.1)\n",
            "Requirement already satisfied: chardet in /opt/homebrew/lib/python3.11/site-packages (from pyshex->wikidataintegrator) (5.2.0)\n",
            "Requirement already satisfied: pyshexc==0.9.1 in /opt/homebrew/lib/python3.11/site-packages (from pyshex->wikidataintegrator) (0.9.1)\n",
            "Requirement already satisfied: rdflib-shim in /opt/homebrew/lib/python3.11/site-packages (from pyshex->wikidataintegrator) (1.0.3)\n",
            "Requirement already satisfied: shexjsg>=0.8.2 in /opt/homebrew/lib/python3.11/site-packages (from pyshex->wikidataintegrator) (0.8.2)\n",
            "Requirement already satisfied: sparqlslurper>=0.5.1 in /opt/homebrew/lib/python3.11/site-packages (from pyshex->wikidataintegrator) (0.5.1)\n",
            "Requirement already satisfied: sparqlwrapper>=1.8.5 in /opt/homebrew/lib/python3.11/site-packages (from pyshex->wikidataintegrator) (2.0.0)\n",
            "Requirement already satisfied: urllib3 in /opt/homebrew/lib/python3.11/site-packages (from pyshex->wikidataintegrator) (2.0.3)\n",
            "Requirement already satisfied: antlr4-python3-runtime~=4.9.3 in /opt/homebrew/lib/python3.11/site-packages (from pyshexc==0.9.1->pyshex->wikidataintegrator) (4.9.3)\n",
            "Requirement already satisfied: pyjsg>=0.11.10 in /opt/homebrew/lib/python3.11/site-packages (from pyshexc==0.9.1->pyshex->wikidataintegrator) (0.11.10)\n",
            "Requirement already satisfied: charset-normalizer<4,>=2 in /opt/homebrew/lib/python3.11/site-packages (from requests->wikidataintegrator) (3.1.0)\n",
            "Requirement already satisfied: idna<4,>=2.5 in /opt/homebrew/lib/python3.11/site-packages (from requests->wikidataintegrator) (3.4)\n",
            "Requirement already satisfied: certifi>=2017.4.17 in /opt/homebrew/lib/python3.11/site-packages (from requests->wikidataintegrator) (2023.5.7)\n",
            "Requirement already satisfied: Flask in /opt/homebrew/lib/python3.11/site-packages (from shexer->wikidataintegrator) (3.0.0)\n",
            "Requirement already satisfied: Flask-Cors in /opt/homebrew/lib/python3.11/site-packages (from shexer->wikidataintegrator) (4.0.0)\n",
            "Requirement already satisfied: rdflib in /opt/homebrew/lib/python3.11/site-packages (from shexer->wikidataintegrator) (7.0.0)\n",
            "Requirement already satisfied: rdflib-jsonld in /opt/homebrew/lib/python3.11/site-packages (from shexer->wikidataintegrator) (0.6.1)\n",
            "Requirement already satisfied: wlighter in /opt/homebrew/lib/python3.11/site-packages (from shexer->wikidataintegrator) (1.0.1)\n",
            "Requirement already satisfied: isodate<0.7.0,>=0.6.0 in /opt/homebrew/lib/python3.11/site-packages (from rdflib->shexer->wikidataintegrator) (0.6.1)\n",
            "Requirement already satisfied: pyparsing<4,>=2.1.0 in /opt/homebrew/lib/python3.11/site-packages (from rdflib->shexer->wikidataintegrator) (3.0.9)\n",
            "Requirement already satisfied: Werkzeug>=3.0.0 in /opt/homebrew/lib/python3.11/site-packages (from Flask->shexer->wikidataintegrator) (3.0.0)\n",
            "Requirement already satisfied: Jinja2>=3.1.2 in /opt/homebrew/lib/python3.11/site-packages (from Flask->shexer->wikidataintegrator) (3.1.2)\n",
            "Requirement already satisfied: itsdangerous>=2.1.2 in /opt/homebrew/lib/python3.11/site-packages (from Flask->shexer->wikidataintegrator) (2.1.2)\n",
            "Requirement already satisfied: click>=8.1.3 in /opt/homebrew/lib/python3.11/site-packages (from Flask->shexer->wikidataintegrator) (8.1.3)\n",
            "Requirement already satisfied: blinker>=1.6.2 in /opt/homebrew/lib/python3.11/site-packages (from Flask->shexer->wikidataintegrator) (1.6.2)\n",
            "Requirement already satisfied: MarkupSafe>=2.0 in /opt/homebrew/lib/python3.11/site-packages (from Jinja2>=3.1.2->Flask->shexer->wikidataintegrator) (2.1.3)\n",
            "Note: you may need to restart the kernel to use updated packages.\n"
          ]
        }
      ],
      "source": [
        "pip install wikidataintegrator"
      ]
    },
    {
      "cell_type": "code",
      "execution_count": 2,
      "metadata": {},
      "outputs": [],
      "source": [
        "from rdflib import URIRef, BNode, Literal, Namespace, Graph\n",
        "from rdflib.namespace import FOAF, DCTERMS, XSD, RDF, SDO\n",
        "from wikidataintegrator import wdi_core\n",
        "\n",
        "g = Graph()\n",
        "amazon = Namespace('https://www.amazon.nl/-/en/')"
      ]
    },
    {
      "cell_type": "code",
      "execution_count": 3,
      "metadata": {},
      "outputs": [],
      "source": [
        "product = URIRef('https://dbpedia.org/ontology/product')\n",
        "category = URIRef('https://schema.org/category')\n",
        "sub_category = URIRef('https://dbpedia.org/page/subclass') \n",
        "brand = URIRef('https://schema.org/Brand')"
      ]
    },
    {
      "cell_type": "markdown",
      "metadata": {},
      "source": [
        "#### Categories"
      ]
    },
    {
      "cell_type": "code",
      "execution_count": 4,
      "metadata": {},
      "outputs": [],
      "source": [
        "books = amazon['gp/browse.html?node=16241779031&ref_=nav_em_bo_all_0_2_7_2']\n",
        "electronics = amazon['gp/browse.html?node=16269066031&ref_=nav_em_el_all_electronics_0_2_9_2']\n",
        "groceries = amazon['gp/browse.html?node=16242078031&ref_=nav_em_fg_groc_0_2_15_2']\n",
        "beauty = amazon['gp/browse.html?node=16241721031&ref_=nav_em_hb_beauty_0_2_16_2']\n",
        "fashion = amazon['gp/browse.html?node=16241836031&ref_=nav_em__cog_0_2_13_2']"
      ]
    },
    {
      "cell_type": "code",
      "execution_count": 5,
      "metadata": {},
      "outputs": [],
      "source": [
        "# Books: \n",
        "iewu = amazon['Colleen-Hoover/dp/9020550411/ref=sr_1_1_sspa?crid=1JXW0JZ7V63ET&keywords=it+ends+with+us&qid=1695817510&sprefix=it+end%2Caps%2C79&sr=8-1-spons&sp_csd=d2lkZ2V0TmFtZT1zcF9hdGY&psc=1']\n",
        "the_retreat = amazon['Sarah-Pearse-ebook/dp/B08X4Q31LR/ref=sr_1_1?crid=ADEE4225GMED&keywords=the+retreat&qid=1695820612&sprefix=the+retreat%2Caps%2C88&sr=8-1']\n",
        "ltayp = amazon['Rainer-Maria-Rilke/dp/0241620031/ref=sr_1_2?crid=E1G65XJOEFPF&keywords=letters+to+a+young+poet&qid=1695820671&sprefix=letters+to+a+%2Caps%2C89&sr=8-2']\n",
        "hobbit = amazon['John-Ronald-Reuel-Tolkien/dp/0261103288/ref=sr_1_3?crid=1WBRN8CNAN38C&keywords=harper+collins&qid=1695820740&sprefix=harper+co%2Caps%2C85&sr=8-3']\n",
        "macbeth = amazon['William-Shakespeare/dp/1909621889/ref=sr_1_4?crid=1IWNJWOT0H078&keywords=macmillan&qid=1695820793&sprefix=macmillan+%2Caps%2C72&sr=8-4']\n",
        "\n",
        "# Groceries \n",
        "ferrero = amazon['Ferrero-Rocher-Gift-Box-300g/dp/B004XAKAYE/ref=sr_1_2?crid=3LIYCLAZXWB6T&keywords=ferrero+rocher&qid=1695817615&sprefix=ferrer%2Caps%2C104&sr=8-2']\n",
        "kinder_bueno = amazon['KINDER-BUENO-stangen-doos-stuks/dp/B06XQN4NQ6/ref=sr_1_1?__mk_nl_NL=ÅMÅŽÕÑ&crid=3CRDQ21UMSX51&keywords=kinder+bueno&qid=1695818828&sprefix=kinder+bueno%2Caps%2C171&sr=8-1']\n",
        "dulce_de_leche = amazon['Havanna-Dulce-Leche-250/dp/B00H8QZKOK/ref=sr_1_2?crid=1J46OTVE2MZ3P&keywords=dulce+de+leche&qid=1695820234&sprefix=dulce+de+%2Caps%2C87&sr=8-2']\n",
        "colacao = amazon['Original-solvent-natural-without-additives/dp/B003XUIK8I/ref=d_pd_day0_sccl_2_2/260-9348700-5252427?pd_rd_w=KporV&content-id=amzn1.sym.9094c00a-56f9-4c44-8d45-d66ba2966f61&pf_rd_p=9094c00a-56f9-4c44-8d45-d66ba2966f61&pf_rd_r=HWKWF1N7BRQKGKQDYWS9&pd_rd_wg=V26oS&pd_rd_r=b5561f54-d53e-40a3-9906-3030dd56cc5c&pd_rd_i=B003XUIK8I&psc=1']\n",
        "takis = amazon['Takis-Fuego-Chili-Lime-Chips/dp/B0CGMHK81D/ref=sr_1_5?crid=14YJSVM1R867Q&keywords=takis&qid=1695820278&sprefix=takis%2Caps%2C91&sr=8-5']\n",
        "\n",
        "# Electronics: \n",
        "laptop = amazon['Apple-2022-MacBook-Air-chip/dp/B0B3CQW13T/ref=sr_1_1_sspa?crid=25CUOIOQQGM1&keywords=macbook+air+m2&qid=1695817653&sprefix=macb%2Caps%2C101&sr=8-1-spons&sp_csd=d2lkZ2V0TmFtZT1zcF9hdGY&psc=1']\n",
        "tablet = amazon['Microsoft-Surface-Tablet-Silver-Refurbished/dp/B097VGFSQ8/ref=sr_1_6?crid=NHSTX64MPGB8&keywords=windows+tablet&qid=1695820327&sprefix=windows+%2Caps%2C104&sr=8-6']\n",
        "phone = amazon['Huawei-P30-Lite-Peacock-Blue/dp/B07R1Y57YF/ref=sr_1_5?crid=2A7IVAE4P3JA3&keywords=huawei+phone&qid=1695820368&sprefix=huawei+ph%2Caps%2C92&sr=8-5']\n",
        "camera = amazon['Canon-Camera-F3-5-5-6-Screen-Sensor/dp/B07BMV268V/ref=sr_1_5?crid=2FDQIB4UHD3US&keywords=canon+camera&qid=1695820401&sprefix=canon+%2Caps%2C100&sr=8-5']\n",
        "watch = amazon['MNJP3NF-A/dp/B0BDJFLR1F/ref=sr_1_5?crid=377I992WX3F4U&keywords=apple+watch&qid=1696411168&sprefix=appl%2Caps%2C150&sr=8-5']\n",
        "\n",
        "# Fashion: \n",
        "tshirt = amazon['Tommy-Hilfiger-T-Shirt-Allure-Heather/dp/B07DXB5VMV/ref=zg_bs_c_fashion_sccl_1/257-6316699-9736546?pd_rd_w=BFCe6&content-id=amzn1.sym.6d0b5bcd-e90f-45da-a5c5-c8a801ccda1a&pf_rd_p=6d0b5bcd-e90f-45da-a5c5-c8a801ccda1a&pf_rd_r=6G90AXJX557JBN0K4T46&pd_rd_wg=4eW54&pd_rd_r=0ae55144-f128-4957-9ba0-67b84c1fff3c&pd_rd_i=B07DX7BF7G&th=1&psc=1']\n",
        "sambas = amazon['adidas-Samba-Running-Shoes-Runwht/dp/B000KKMMG0/ref=sr_1_2?crid=2VWBC08R8NT51&keywords=adidas+samba&qid=1695890725&sprefix=adidas+%2Caps%2C78&sr=8-2']\n",
        "coat = amazon['MARIKOO-Nanakoo-Womens-Winter-Jacket/dp/B07T3CXCDY?ref_=Oct_d_orecs_d_16391718031_0&pd_rd_w=O8JBG&content-id=amzn1.sym.c20ce805-8b57-413f-bf28-f3b17a0c04b1&pf_rd_p=c20ce805-8b57-413f-bf28-f3b17a0c04b1&pf_rd_r=018WGWVHNE6E053JFGT1&pd_rd_wg=TDDIQ&pd_rd_r=45146da3-c2e0-4045-947f-38d623f7adfc&pd_rd_i=B07T3CXCDY']\n",
        "slippers = amazon['adidas-Adilette-Girls-Trainers-Black/dp/B07F71DBGG/ref=sr_1_5?crid=39AHYB3Z6H6C2&keywords=adidas+slippers&qid=1696410897&sprefix=adidas%2Caps%2C110&sr=8-5']\n",
        "nb_550 = amazon['Balance-White-Beige-Style-Code/dp/B0C9JFWYFN/ref=sr_1_2?crid=2WVLPNA3J1UGB&keywords=new+balance+550+dames&qid=1695891276&sprefix=new%2Bbalance%2B550%2Caps%2C60&sr=8-2']\n",
        "\n",
        "# Beauty \n",
        "blush = amazon['Balance-White-Beige-Style-Code/dp/B0C9JFWYFN/ref=sr_1_2?crid=2WVLPNA3J1UGB&keywords=new+balance+550+dames&qid=1695891276&sprefix=new%2Bbalance%2B550%2Caps%2C60&sr=8-2']\n",
        "mascara = amazon['Maybelline-New-York-Sensational-Mascara/dp/B00PFCSXD4/ref=sr_1_5?crid=MQMMI8VKZMFW&keywords=makeup&qid=1695820106&sprefix=makeup%2Caps%2C95&sr=8-5&th=1']\n",
        "setting_spray = amazon['PROFESSIONAL-MAKEUP-800897182342-Multitasking-Set-Refresh-Multitasking/dp/B07SB2LG6S/ref=sr_1_1?crid=1Y5KPRGTISEJP&keywords=nyx+setting+spray&qid=1696410169&sprefix=nyx+setting+%2Caps%2C70&sr=8-1']\n",
        "lip_gloss = amazon['Professional-Lipstick-pigmented-long-lasting-formula/dp/B07BR2MP4B/ref=sr_1_14?crid=MQMMI8VKZMFW&keywords=makeup&qid=1695820165&sprefix=makeup%2Caps%2C95&sr=8-14']\n",
        "bronzer = amazon['Rimmel-London-Natural-Bronzing-Bronzer/dp/B08ZPFFBGD/ref=sr_1_20?crid=MQMMI8VKZMFW&keywords=makeup&qid=1695820165&sprefix=makeup%2Caps%2C95&sr=8-20&th=1']"
      ]
    },
    {
      "cell_type": "markdown",
      "metadata": {},
      "source": [
        "##### Adding all categories and their respective products "
      ]
    },
    {
      "cell_type": "code",
      "execution_count": 6,
      "metadata": {},
      "outputs": [
        {
          "data": {
            "text/plain": [
              "<Graph identifier=N5eca8a667b034e95bafdbf47d3e2502a (<class 'rdflib.graph.Graph'>)>"
            ]
          },
          "execution_count": 6,
          "metadata": {},
          "output_type": "execute_result"
        }
      ],
      "source": [
        "g.bind('Amazon', amazon)\n",
        "g.bind('foaf',FOAF)\n",
        "\n",
        "# ----------------------------------------------\n",
        "g.add((books, RDF.type, category))\n",
        "g.add((iewu, RDF.type, product))\n",
        "g.add((iewu, category, books))\n",
        "g.add((the_retreat, RDF.type, product))\n",
        "g.add((the_retreat, category, books))\n",
        "g.add((ltayp, RDF.type, product))\n",
        "g.add((ltayp, category, books))\n",
        "g.add((hobbit, RDF.type, product))\n",
        "g.add((hobbit, category, books))\n",
        "g.add((macbeth, RDF.type, product))\n",
        "g.add((macbeth, category, books))\n",
        "# ----------------------------------------------\n",
        "g.add((groceries, RDF.type, category))\n",
        "g.add((kinder_bueno, RDF.type, product))\n",
        "g.add((kinder_bueno, category, groceries))\n",
        "g.add((ferrero, RDF.type, product))\n",
        "g.add((ferrero, category, groceries))\n",
        "g.add((dulce_de_leche, RDF.type, product))\n",
        "g.add((dulce_de_leche, category, groceries))\n",
        "g.add((takis, RDF.type, product))\n",
        "g.add((takis, category, groceries))\n",
        "g.add((colacao, RDF.type, product))\n",
        "g.add((colacao, category, groceries))\n",
        "# ----------------------------------------------\n",
        "g.add((electronics, RDF.type, category))\n",
        "g.add((laptop, RDF.type, product))\n",
        "g.add((laptop, category, electronics))\n",
        "g.add((tablet, RDF.type, product))\n",
        "g.add((tablet, category, electronics))\n",
        "g.add((phone, RDF.type, product))\n",
        "g.add((phone, category, electronics))\n",
        "g.add((camera, RDF.type, product))\n",
        "g.add((camera, category, electronics))\n",
        "g.add((watch, RDF.type, product))\n",
        "g.add((watch, category, electronics))\n",
        "# ----------------------------------------------\n",
        "g.add((fashion, RDF.type, category))\n",
        "g.add((tshirt, RDF.type, product))\n",
        "g.add((tshirt, category, fashion))\n",
        "g.add((sambas, RDF.type, product))\n",
        "g.add((sambas, category, fashion))\n",
        "g.add((coat, RDF.type, product))\n",
        "g.add((coat, category, fashion))\n",
        "g.add((slippers, RDF.type, product))\n",
        "g.add((slippers, category, fashion))\n",
        "g.add((nb_550, RDF.type, product))\n",
        "g.add((nb_550, category, fashion))\n",
        "# ----------------------------------------------\n",
        "g.add((beauty, RDF.type, category))\n",
        "g.add((blush, RDF.type, product))\n",
        "g.add((blush, category, beauty))\n",
        "g.add((mascara, RDF.type, product))\n",
        "g.add((mascara, category, beauty))\n",
        "g.add((setting_spray, RDF.type, product))\n",
        "g.add((setting_spray, category, beauty))\n",
        "g.add((lip_gloss, RDF.type, product))\n",
        "g.add((lip_gloss, category, beauty))\n",
        "g.add((bronzer, RDF.type, product))\n",
        "g.add((bronzer, category, beauty))"
      ]
    },
    {
      "cell_type": "markdown",
      "metadata": {},
      "source": [
        "##### object properties"
      ]
    },
    {
      "cell_type": "code",
      "execution_count": 7,
      "metadata": {},
      "outputs": [],
      "source": [
        "publisher = URIRef('https://schema.org/publisher')\n",
        "author = URIRef('https://schema.org/author')\n",
        "book_type = URIRef('https://dbpedia.org/page/Book_type')\n",
        "genre = URIRef('https://dbpedia.org/page/Genre')\n",
        "language = URIRef('https://dbpedia.org/page/Language')\n",
        "title = URIRef('https://dbpedia.org/page/Title')\n",
        "flavour = URIRef('https://dbpedia.org/page/Flavor')\n",
        "creator = URIRef('https://dbpedia.org/ontology/creator')\n",
        "operating_system = URIRef('https://schema.org/operatingSystem')\n",
        "exposure = URIRef('https://dbpedia.org/page/Exposure')\n",
        "connector = URIRef('https://dbpedia.org/page/Connector')\n",
        "cpu = URIRef('https://dbpedia.org/page/Central_processing_unit')\n",
        "storage = URIRef('https://dbpedia.org/page/Storage')\n",
        "zoom = URIRef('https://dbpedia.org/page/Zoom')\n",
        "feature = URIRef('https://dbpedia.org/ontology/features')\n",
        "display = URIRef('https://dbpedia.org/property/display')\n",
        "season = URIRef('https://schema.org/Season')\n",
        "vat = URIRef('https://schema.org/valueAddedTaxIncluded')\n",
        "material = URIRef('https://schema.org/material')\n",
        "rating = URIRef('https://schema.org/Rating')\n",
        "size = URIRef('https://schema.org/size')\n",
        "department = URIRef('https://schema.org/department')\n",
        "dresscode = URIRef('https://dbpedia.org/page/Dress_code')\n",
        "cosmetic = URIRef('https://dbpedia.org/page/Cosmetics')\n",
        "finish = URIRef('https://dbpedia.org/property/finish')\n",
        "color_name = URIRef('https://dbpedia.org/ontology/colourName')\n",
        "form = URIRef('https://dbpedia.org/property/form')\n",
        "price = URIRef('https://schema.org/price')\n",
        "color = URIRef('https://schema.org/color')\n",
        "country_of_origin = URIRef('https://schema.org/countryOfOrigin')\n",
        "name = URIRef('https://dbpedia.org/property/name')"
      ]
    },
    {
      "cell_type": "markdown",
      "metadata": {},
      "source": [
        "#### Books\n",
        "It Ends With Us"
      ]
    },
    {
      "cell_type": "code",
      "execution_count": 8,
      "metadata": {},
      "outputs": [
        {
          "data": {
            "text/plain": [
              "<Graph identifier=N5eca8a667b034e95bafdbf47d3e2502a (<class 'rdflib.graph.Graph'>)>"
            ]
          },
          "execution_count": 8,
          "metadata": {},
          "output_type": "execute_result"
        }
      ],
      "source": [
        "romance = URIRef('https://en.wikipedia.org/wiki/Romance_novel')\n",
        "coleen = URIRef('https://en.wikipedia.org/wiki/Colleen_Hoover')\n",
        "paperback = URIRef('https://en.wikipedia.org/wiki/Paperback')\n",
        "s_and_s = URIRef('https://www.simonandschuster.com/')\n",
        "english = URIRef('https://en.wikipedia.org/wiki/English_language')\n",
        "\n",
        "g.add((romance, sub_category, books))\n",
        "g.add((iewu, genre, romance))\n",
        "g.add((iewu, author, coleen))\n",
        "g.add((iewu, book_type, paperback))\n",
        "g.add((iewu, publisher, s_and_s))\n",
        "g.add((iewu, language, english))\n",
        "g.add((iewu, title, Literal('It Ends With Us')))\n",
        "g.add((iewu, price, Literal(12.99, datatype=XSD.float)))"
      ]
    },
    {
      "cell_type": "markdown",
      "metadata": {},
      "source": [
        "The Retreat"
      ]
    },
    {
      "cell_type": "code",
      "execution_count": 9,
      "metadata": {},
      "outputs": [
        {
          "data": {
            "text/plain": [
              "<Graph identifier=N5eca8a667b034e95bafdbf47d3e2502a (<class 'rdflib.graph.Graph'>)>"
            ]
          },
          "execution_count": 9,
          "metadata": {},
          "output_type": "execute_result"
        }
      ],
      "source": [
        "transworld = URIRef('https://en.wikipedia.org/wiki/Transworld_(publisher)')\n",
        "sarah = URIRef('https://sarahpearse.co.uk/#author')\n",
        "e_book = URIRef('https://en.wikipedia.org/wiki/Ebook')\n",
        "thriller = URIRef('https://en.wikipedia.org/wiki/Thriller_(genre)')\n",
        "\n",
        "g.add((thriller, sub_category, books))\n",
        "g.add((the_retreat, genre, thriller))\n",
        "g.add((the_retreat, author, sarah))\n",
        "g.add((the_retreat, book_type, e_book))\n",
        "g.add((the_retreat, publisher, transworld))\n",
        "g.add((the_retreat, language, english))\n",
        "g.add((the_retreat, title, Literal('The Retreat')))\n",
        "g.add((the_retreat, price, Literal(6.99, datatype=XSD.float)))"
      ]
    },
    {
      "cell_type": "markdown",
      "metadata": {},
      "source": [
        "Letters to a Young Poet"
      ]
    },
    {
      "cell_type": "code",
      "execution_count": 10,
      "metadata": {},
      "outputs": [
        {
          "data": {
            "text/plain": [
              "<Graph identifier=N5eca8a667b034e95bafdbf47d3e2502a (<class 'rdflib.graph.Graph'>)>"
            ]
          },
          "execution_count": 10,
          "metadata": {},
          "output_type": "execute_result"
        }
      ],
      "source": [
        "penguin = URIRef('https://www.penguin.co.uk/')\n",
        "maria = URIRef('https://nl.wikipedia.org/wiki/Rainer_Maria_Rilke')\n",
        "hardcover = URIRef('https://en.wikipedia.org/wiki/Hardcover')\n",
        "poetry = URIRef('https://en.wikipedia.org/wiki/Poetry')\n",
        "\n",
        "g.add((poetry, sub_category, books))\n",
        "g.add((ltayp, genre, poetry))\n",
        "g.add((ltayp, author, maria))\n",
        "g.add((ltayp, book_type, hardcover))\n",
        "g.add((ltayp, publisher, penguin))\n",
        "g.add((ltayp, language, english))\n",
        "g.add((ltayp, title, Literal('Letters to a Young Poet')))\n",
        "g.add((ltayp, price, Literal(9.70, datatype=XSD.float)))"
      ]
    },
    {
      "cell_type": "markdown",
      "metadata": {},
      "source": [
        "The Hobbit "
      ]
    },
    {
      "cell_type": "code",
      "execution_count": 11,
      "metadata": {},
      "outputs": [
        {
          "data": {
            "text/plain": [
              "<Graph identifier=N5eca8a667b034e95bafdbf47d3e2502a (<class 'rdflib.graph.Graph'>)>"
            ]
          },
          "execution_count": 11,
          "metadata": {},
          "output_type": "execute_result"
        }
      ],
      "source": [
        "haper_collins = URIRef('https://www.harpercollins.com/')\n",
        "john = URIRef('https://en.wikipedia.org/wiki/J._R._R._Tolkien')\n",
        "epic = URIRef('https://en.wikipedia.org/wiki/Epic_(genre)')\n",
        "\n",
        "g.add((epic, sub_category, books))\n",
        "g.add((ltayp, genre, epic))\n",
        "g.add((ltayp, author, john))\n",
        "g.add((ltayp, book_type, hardcover))\n",
        "g.add((ltayp, publisher, haper_collins))\n",
        "g.add((ltayp, language, english))\n",
        "g.add((ltayp, title, Literal('The Hobbit')))\n",
        "g.add((ltayp, price, Literal(17.94, datatype=XSD.float)))"
      ]
    },
    {
      "cell_type": "markdown",
      "metadata": {},
      "source": [
        "MacBeth"
      ]
    },
    {
      "cell_type": "code",
      "execution_count": 12,
      "metadata": {},
      "outputs": [
        {
          "data": {
            "text/plain": [
              "<Graph identifier=N5eca8a667b034e95bafdbf47d3e2502a (<class 'rdflib.graph.Graph'>)>"
            ]
          },
          "execution_count": 12,
          "metadata": {},
          "output_type": "execute_result"
        }
      ],
      "source": [
        "macmillan = URIRef('https://us.macmillan.com/')\n",
        "william = URIRef('https://en.wikipedia.org/wiki/William_Shakespeare')\n",
        "tragedy = URIRef('https://en.wikipedia.org/wiki/Tragedy')\n",
        "\n",
        "g.add((tragedy, sub_category, books))\n",
        "g.add((macbeth, genre, tragedy))\n",
        "g.add((macbeth, author, william))\n",
        "g.add((macbeth, book_type, hardcover))\n",
        "g.add((macbeth, publisher, macmillan))\n",
        "g.add((macbeth, language, english))\n",
        "g.add((macbeth, title, Literal('MacBeth')))\n",
        "g.add((macbeth, price, Literal(8.99, datatype=XSD.float)))"
      ]
    },
    {
      "cell_type": "markdown",
      "metadata": {},
      "source": [
        "### Groceries\n",
        "Ferrero Rocher "
      ]
    },
    {
      "cell_type": "code",
      "execution_count": 13,
      "metadata": {},
      "outputs": [
        {
          "data": {
            "text/plain": [
              "<Graph identifier=N5eca8a667b034e95bafdbf47d3e2502a (<class 'rdflib.graph.Graph'>)>"
            ]
          },
          "execution_count": 13,
          "metadata": {},
          "output_type": "execute_result"
        }
      ],
      "source": [
        "ferrero_rocher = URIRef('https://www.ferrerorocher.com/es/es/')\n",
        "italy = URIRef('https://en.wikipedia.org/wiki/Italy')\n",
        "chocolate = URIRef('https://en.wikipedia.org/wiki/Chocolate')\n",
        "michele_ferrero = URIRef('https://es.wikipedia.org/wiki/Michele_Ferrero')\n",
        "\n",
        "g.add((chocolate, sub_category, groceries))\n",
        "g.add((ferrero, brand, ferrero_rocher))\n",
        "g.add((ferrero, country_of_origin, italy))\n",
        "g.add((ferrero, flavour, chocolate))\n",
        "g.add((ferrero, creator, michele_ferrero))\n",
        "g.add((ferrero, name, Literal('Ferrero Rocher')))\n",
        "g.add((ferrero, price, Literal(39.99, datatype=XSD.float)))"
      ]
    },
    {
      "cell_type": "markdown",
      "metadata": {},
      "source": [
        "Kinder Bueno "
      ]
    },
    {
      "cell_type": "code",
      "execution_count": 14,
      "metadata": {},
      "outputs": [
        {
          "data": {
            "text/plain": [
              "<Graph identifier=N5eca8a667b034e95bafdbf47d3e2502a (<class 'rdflib.graph.Graph'>)>"
            ]
          },
          "execution_count": 14,
          "metadata": {},
          "output_type": "execute_result"
        }
      ],
      "source": [
        "kinder = URIRef('https://www.kinder.com/nl/nl/kinder-bueno')\n",
        "hazelnut = URIRef('https://en.wikipedia.org/wiki/Hazelnut')\n",
        "\n",
        "g.add((hazelnut, sub_category, groceries))\n",
        "g.add((kinder_bueno, brand, kinder))\n",
        "g.add((kinder_bueno, country_of_origin, italy))\n",
        "g.add((kinder_bueno, flavour, hazelnut))\n",
        "g.add((kinder_bueno, creator, michele_ferrero))\n",
        "g.add((kinder_bueno, name, Literal('Kinder Bueno')))\n",
        "g.add((kinder_bueno, price, Literal(29.00, datatype=XSD.float)))"
      ]
    },
    {
      "cell_type": "markdown",
      "metadata": {},
      "source": [
        "Dulce de Leche"
      ]
    },
    {
      "cell_type": "code",
      "execution_count": 15,
      "metadata": {},
      "outputs": [
        {
          "data": {
            "text/plain": [
              "<Graph identifier=N5eca8a667b034e95bafdbf47d3e2502a (<class 'rdflib.graph.Graph'>)>"
            ]
          },
          "execution_count": 15,
          "metadata": {},
          "output_type": "execute_result"
        }
      ],
      "source": [
        "havanna = URIRef('https://www.havanna.com.ar/')\n",
        "argentina = URIRef('https://en.wikipedia.org/wiki/Argentina')\n",
        "benjamin = URIRef('https://www.example.com/Benajmin_Sisterna')\n",
        "caramel = URIRef('https://en.wikipedia.org/wiki/Caramel')\n",
        "\n",
        "g.add((caramel, sub_category, groceries))\n",
        "g.add((dulce_de_leche, brand, havanna))\n",
        "g.add((dulce_de_leche, country_of_origin, argentina))\n",
        "g.add((dulce_de_leche, flavour, caramel))\n",
        "g.add((dulce_de_leche, creator, benjamin))\n",
        "g.add((dulce_de_leche, name, Literal('Dulce de Leche')))\n",
        "g.add((dulce_de_leche, price, Literal(6.62, datatype=XSD.float)))"
      ]
    },
    {
      "cell_type": "markdown",
      "metadata": {},
      "source": [
        "Takis"
      ]
    },
    {
      "cell_type": "code",
      "execution_count": 16,
      "metadata": {},
      "outputs": [
        {
          "data": {
            "text/plain": [
              "<Graph identifier=N5eca8a667b034e95bafdbf47d3e2502a (<class 'rdflib.graph.Graph'>)>"
            ]
          },
          "execution_count": 16,
          "metadata": {},
          "output_type": "execute_result"
        }
      ],
      "source": [
        "barcel = URIRef('https://barcel-usa.com/')\n",
        "mexico = URIRef('https://en.wikipedia.org/wiki/Mexico')\n",
        "morgan = URIRef('https://www.example.com/Morgan_Sanchez')\n",
        "spicy = URIRef('https://en.wiktionary.org/wiki/spicy')\n",
        "\n",
        "g.add((spicy, sub_category, groceries))\n",
        "g.add((takis, brand, barcel))\n",
        "g.add((takis, country_of_origin, mexico))\n",
        "g.add((takis, flavour, spicy))\n",
        "g.add((takis, creator, benjamin))\n",
        "g.add((takis, name, Literal('Takis Fuego')))\n",
        "g.add((takis, price, Literal(18.79, datatype=XSD.float)))"
      ]
    },
    {
      "cell_type": "markdown",
      "metadata": {},
      "source": [
        "Cola Cao"
      ]
    },
    {
      "cell_type": "code",
      "execution_count": 17,
      "metadata": {},
      "outputs": [
        {
          "data": {
            "text/plain": [
              "<Graph identifier=N5eca8a667b034e95bafdbf47d3e2502a (<class 'rdflib.graph.Graph'>)>"
            ]
          },
          "execution_count": 17,
          "metadata": {},
          "output_type": "execute_result"
        }
      ],
      "source": [
        "colacao_company = URIRef('https://colacao.es/')\n",
        "spain = URIRef('https://en.wikipedia.org/wiki/Spain')\n",
        "benjamin = URIRef('https://www.example.com/Jose_Ventura')\n",
        "\n",
        "g.add((colacao, brand, colacao_company))\n",
        "g.add((colacao, country_of_origin, argentina))\n",
        "g.add((colacao, flavour, chocolate))\n",
        "g.add((colacao, creator, benjamin))\n",
        "g.add((colacao, name, Literal('Cola Cao')))\n",
        "g.add((colacao, price, Literal(16.23, datatype=XSD.float)))"
      ]
    },
    {
      "cell_type": "markdown",
      "metadata": {},
      "source": [
        "#### Electronics\n",
        "Laptop"
      ]
    },
    {
      "cell_type": "code",
      "execution_count": 18,
      "metadata": {},
      "outputs": [
        {
          "data": {
            "text/plain": [
              "<Graph identifier=N5eca8a667b034e95bafdbf47d3e2502a (<class 'rdflib.graph.Graph'>)>"
            ]
          },
          "execution_count": 18,
          "metadata": {},
          "output_type": "execute_result"
        }
      ],
      "source": [
        "macOS = URIRef('https://apps.apple.com/us/app/macos-mojave/id1398502828?mt=12')\n",
        "m2 = URIRef('https://en.wikipedia.org/wiki/Apple_M2')\n",
        "apple = URIRef('https://www.apple.com/by/')\n",
        "retina = URIRef('https://en.wikipedia.org/wiki/Retina_display')\n",
        "computers = URIRef('https://dbpedia.org/page/Computer')\n",
        "\n",
        "g.add((computers, sub_category, electronics))\n",
        "g.add((laptop, sub_category, computers))\n",
        "g.add((laptop, operating_system, macOS))\n",
        "g.add((laptop, cpu, m2))\n",
        "g.add((laptop, brand, apple))\n",
        "g.add((laptop, display, retina))\n",
        "g.add((laptop, name, Literal('MacBook Air with M2 chip')))\n",
        "g.add((laptop, price, Literal(1359.00, datatype=XSD.float)))"
      ]
    },
    {
      "cell_type": "markdown",
      "metadata": {},
      "source": [
        "Tablet"
      ]
    },
    {
      "cell_type": "code",
      "execution_count": 19,
      "metadata": {},
      "outputs": [
        {
          "data": {
            "text/plain": [
              "<Graph identifier=N5eca8a667b034e95bafdbf47d3e2502a (<class 'rdflib.graph.Graph'>)>"
            ]
          },
          "execution_count": 19,
          "metadata": {},
          "output_type": "execute_result"
        }
      ],
      "source": [
        "windows = URIRef('https://www.microsoft.com/en-us/windowsforbusiness/windows-10-pro')\n",
        "intel_corei7 = URIRef('https://www.intel.com/content/www/us/en/products/details/processors/core/i7.html')\n",
        "microsoft = URIRef('https://www.microsoft.com/nl-nl/')\n",
        "silver = URIRef('https://en.wikipedia.org/wiki/Silver_(color)')\n",
        "tablets = URIRef('https://dbpedia.org/page/Tablet')\n",
        "\n",
        "g.add((tablets, sub_category, electronics))\n",
        "g.add((tablet, sub_category, tablets))\n",
        "g.add((tablet, operating_system, windows))\n",
        "g.add((tablet, cpu, intel_corei7))\n",
        "g.add((tablet, brand, microsoft))\n",
        "g.add((tablet, color, silver))\n",
        "g.add((tablet, name, Literal('Microsoft Surface Pro 4 Tablet')))\n",
        "g.add((tablet, price, Literal(310.89, datatype=XSD.float)))"
      ]
    },
    {
      "cell_type": "markdown",
      "metadata": {},
      "source": [
        "Phone"
      ]
    },
    {
      "cell_type": "code",
      "execution_count": 20,
      "metadata": {},
      "outputs": [
        {
          "data": {
            "text/plain": [
              "<Graph identifier=N5eca8a667b034e95bafdbf47d3e2502a (<class 'rdflib.graph.Graph'>)>"
            ]
          },
          "execution_count": 20,
          "metadata": {},
          "output_type": "execute_result"
        }
      ],
      "source": [
        "android = URIRef('https://en.wikipedia.org/wiki/Android_(operating_system)')\n",
        "gb4_ram = URIRef('https://example.com/4_GB')\n",
        "huawei = URIRef('https://www.huawei.com/en/')\n",
        "blue = URIRef('https://en.wikipedia.org/wiki/Blue')\n",
        "mobile_phone = URIRef('https://dbpedia.org/ontology/MobilePhone')\n",
        "\n",
        "g.add((mobile_phone, sub_category, electronics))\n",
        "g.add((phone, sub_category, mobile_phone))\n",
        "g.add((phone, operating_system, android))\n",
        "g.add((phone, storage, gb4_ram))\n",
        "g.add((phone, brand, huawei))\n",
        "g.add((phone, color, blue))\n",
        "g.add((phone, name, Literal('Huawei P30 Lite')))\n",
        "g.add((phone, price, Literal(199.00, datatype=XSD.float)))"
      ]
    },
    {
      "cell_type": "markdown",
      "metadata": {},
      "source": [
        "Camera"
      ]
    },
    {
      "cell_type": "code",
      "execution_count": 21,
      "metadata": {},
      "outputs": [
        {
          "data": {
            "text/plain": [
              "<Graph identifier=N5eca8a667b034e95bafdbf47d3e2502a (<class 'rdflib.graph.Graph'>)>"
            ]
          },
          "execution_count": 21,
          "metadata": {},
          "output_type": "execute_result"
        }
      ],
      "source": [
        "manual = URIRef('https://www.canon.com.au/get-inspired/glossary/manual-exposure#:~:text=Manual%20Exposure%20is%20when%20the,the%20output%20of%20the%20image.')\n",
        "zoom3x = URIRef('https://example.com/3x')\n",
        "canon = URIRef('https://global.canon/en/index.html')\n",
        "black = URIRef('https://en.wikipedia.org/wiki/Black')\n",
        "digital_camera = URIRef('https://dbpedia.org/page/Digital_camera')\n",
        "\n",
        "g.add((digital_camera, sub_category, electronics))\n",
        "g.add((camera, sub_category, digital_camera))\n",
        "g.add((camera, exposure, manual))\n",
        "g.add((camera, zoom, zoom3x))\n",
        "g.add((camera, brand, canon))\n",
        "g.add((camera, color, black))\n",
        "g.add((camera, name, Literal('Canon EOS 2000D')))\n",
        "g.add((camera, price, Literal(399.00, datatype=XSD.float)))"
      ]
    },
    {
      "cell_type": "markdown",
      "metadata": {},
      "source": [
        "Watch"
      ]
    },
    {
      "cell_type": "code",
      "execution_count": 22,
      "metadata": {},
      "outputs": [
        {
          "data": {
            "text/plain": [
              "<Graph identifier=N5eca8a667b034e95bafdbf47d3e2502a (<class 'rdflib.graph.Graph'>)>"
            ]
          },
          "execution_count": 22,
          "metadata": {},
          "output_type": "execute_result"
        }
      ],
      "source": [
        "watchOS = URIRef('https://en.wikipedia.org/wiki/WatchOS')\n",
        "gps = URIRef('https://en.wikipedia.org/wiki/Global_Positioning_System')\n",
        "starlight = URIRef('https://example.com/Starlight')\n",
        "smart_watch = URIRef('https://dbpedia.org/page/Smartwatch')\n",
        "\n",
        "g.add((smart_watch, sub_category, electronics))\n",
        "g.add((watch, sub_category, smart_watch))\n",
        "g.add((watch, operating_system, watchOS))\n",
        "g.add((watch, feature, gps))\n",
        "g.add((watch, brand, apple))\n",
        "g.add((watch, color, starlight))\n",
        "g.add((watch, name, Literal('Apple Watch SE')))\n",
        "g.add((watch, price, Literal(14.99, datatype=XSD.float)))"
      ]
    },
    {
      "cell_type": "markdown",
      "metadata": {},
      "source": [
        "#### Fashion\n",
        "Tshirt"
      ]
    },
    {
      "cell_type": "code",
      "execution_count": 23,
      "metadata": {},
      "outputs": [
        {
          "data": {
            "text/plain": [
              "<Graph identifier=N5eca8a667b034e95bafdbf47d3e2502a (<class 'rdflib.graph.Graph'>)>"
            ]
          },
          "execution_count": 23,
          "metadata": {},
          "output_type": "execute_result"
        }
      ],
      "source": [
        "summer = URIRef('https://en.wikipedia.org/wiki/Summer')\n",
        "boys_department = URIRef('https://en.wikipedia.org/wiki/Boy')\n",
        "tommy = URIRef('https://nl.tommy.com/EN')\n",
        "white = URIRef('https://en.wikipedia.org/wiki/White')\n",
        "\n",
        "g.add((boys_department, sub_category, fashion))\n",
        "g.add((tshirt, season, summer))\n",
        "g.add((tshirt, department, boys_department))\n",
        "g.add((tshirt, brand, tommy))\n",
        "g.add((tshirt, color, white))\n",
        "g.add((tshirt, name, Literal('Tommy Hilfiger Boys Basic')))\n",
        "g.add((tshirt, price, Literal(19.89, datatype=XSD.float)))"
      ]
    },
    {
      "cell_type": "markdown",
      "metadata": {},
      "source": [
        "Sambas (shoes)"
      ]
    },
    {
      "cell_type": "code",
      "execution_count": 24,
      "metadata": {},
      "outputs": [
        {
          "data": {
            "text/plain": [
              "<Graph identifier=N5eca8a667b034e95bafdbf47d3e2502a (<class 'rdflib.graph.Graph'>)>"
            ]
          },
          "execution_count": 24,
          "metadata": {},
          "output_type": "execute_result"
        }
      ],
      "source": [
        "included = URIRef('https://example.com/Included_VAT')\n",
        "adidas = URIRef('https://www.adidas.nl/')\n",
        "\n",
        "g.add((sambas, vat, included))\n",
        "g.add((sambas, department, boys_department))\n",
        "g.add((sambas, brand, adidas))\n",
        "g.add((sambas, color, black ))\n",
        "g.add((sambas, name, Literal('Sambas')))\n",
        "g.add((sambas, price, Literal(71.99, datatype=XSD.float)))"
      ]
    },
    {
      "cell_type": "markdown",
      "metadata": {},
      "source": [
        "Coat"
      ]
    },
    {
      "cell_type": "code",
      "execution_count": 25,
      "metadata": {},
      "outputs": [
        {
          "data": {
            "text/plain": [
              "<Graph identifier=N5eca8a667b034e95bafdbf47d3e2502a (<class 'rdflib.graph.Graph'>)>"
            ]
          },
          "execution_count": 25,
          "metadata": {},
          "output_type": "execute_result"
        }
      ],
      "source": [
        "wool = URIRef('https://en.wikipedia.org/wiki/Wool')\n",
        "elegant = URIRef('https://en.wikipedia.org/wiki/Elegance')\n",
        "marikoo = URIRef('https://www.amazon.com.be/s?k=MARIKOO&language=en&ref=bl_sl_s_ap_web_0')\n",
        "red = URIRef('https://en.wikipedia.org/wiki/Red')\n",
        "women_department = URIRef('https://en.wikipedia.org/wiki/Women')\n",
        "\n",
        "g.add((women_department, sub_category, fashion))\n",
        "g.add((coat, department, women_department))\n",
        "g.add((coat, material, wool))\n",
        "g.add((coat, dresscode, elegant))\n",
        "g.add((coat, brand, marikoo))\n",
        "g.add((coat, color, red))\n",
        "g.add((coat, name, Literal('MARIKOO Coat')))\n",
        "g.add((coat, price, Literal(99.95, datatype=XSD.float)))"
      ]
    },
    {
      "cell_type": "markdown",
      "metadata": {},
      "source": [
        "Adidas Slippers"
      ]
    },
    {
      "cell_type": "code",
      "execution_count": 26,
      "metadata": {},
      "outputs": [
        {
          "data": {
            "text/plain": [
              "<Graph identifier=N5eca8a667b034e95bafdbf47d3e2502a (<class 'rdflib.graph.Graph'>)>"
            ]
          },
          "execution_count": 26,
          "metadata": {},
          "output_type": "execute_result"
        }
      ],
      "source": [
        "unisex_department = URIRef('https://en.wikipedia.org/wiki/Unisex')\n",
        "\n",
        "g.add((unisex_department, sub_category, fashion))\n",
        "g.add((slippers, department, unisex_department))\n",
        "g.add((slippers, brand, adidas))\n",
        "g.add((slippers, color, black))\n",
        "g.add((slippers, rating, Literal(4.2, datatype=XSD.float)))\n",
        "g.add((slippers, name, Literal('Adidas Adilette Aqua')))\n",
        "g.add((slippers, price, Literal(18.40, datatype=XSD.float)))"
      ]
    },
    {
      "cell_type": "markdown",
      "metadata": {},
      "source": [
        "New Balance 550"
      ]
    },
    {
      "cell_type": "code",
      "execution_count": 27,
      "metadata": {},
      "outputs": [
        {
          "data": {
            "text/plain": [
              "<Graph identifier=N5eca8a667b034e95bafdbf47d3e2502a (<class 'rdflib.graph.Graph'>)>"
            ]
          },
          "execution_count": 27,
          "metadata": {},
          "output_type": "execute_result"
        }
      ],
      "source": [
        "new_balance = URIRef('https://nl.newbalance.eu/nl')\n",
        "\n",
        "g.add((nb_550, department, women_department))\n",
        "g.add((nb_550, brand, new_balance))\n",
        "g.add((nb_550, color, white))\n",
        "g.add((nb_550, rating, Literal(38, datatype=XSD.float)))\n",
        "g.add((nb_550, name, Literal('Reebok uniseks-volwassene Club CSneaker')))\n",
        "g.add((nb_550, price, Literal(170.00, datatype=XSD.float)))"
      ]
    },
    {
      "cell_type": "markdown",
      "metadata": {},
      "source": [
        "#### Beauty\n",
        "Blush"
      ]
    },
    {
      "cell_type": "code",
      "execution_count": 28,
      "metadata": {},
      "outputs": [
        {
          "data": {
            "text/plain": [
              "<Graph identifier=N5eca8a667b034e95bafdbf47d3e2502a (<class 'rdflib.graph.Graph'>)>"
            ]
          },
          "execution_count": 28,
          "metadata": {},
          "output_type": "execute_result"
        }
      ],
      "source": [
        "rare_beauty = URIRef('https://www.rarebeauty.com/')\n",
        "blush_liquid = URIRef('https://www.example.com/Liquid_Blush')\n",
        "\n",
        "g.add((blush_liquid, sub_category, beauty))\n",
        "g.add((blush, cosmetic, blush_liquid))\n",
        "g.add((blush, brand, rare_beauty))\n",
        "g.add((blush, country_of_origin, italy))\n",
        "g.add((blush, color_name, Literal('Happy')))\n",
        "g.add((blush, name, Literal('Rare beauty blush')))\n",
        "g.add((blush, price, Literal(45.00, datatype=XSD.float)))"
      ]
    },
    {
      "cell_type": "markdown",
      "metadata": {},
      "source": [
        "Mascara"
      ]
    },
    {
      "cell_type": "code",
      "execution_count": 29,
      "metadata": {},
      "outputs": [
        {
          "data": {
            "text/plain": [
              "<Graph identifier=N5eca8a667b034e95bafdbf47d3e2502a (<class 'rdflib.graph.Graph'>)>"
            ]
          },
          "execution_count": 29,
          "metadata": {},
          "output_type": "execute_result"
        }
      ],
      "source": [
        "liquid = URIRef('https://en.wikipedia.org/wiki/Liquid')\n",
        "maybelline = URIRef('https://www.maybelline.nl/')\n",
        "mascara_liquid = URIRef('https://www.example.com/Liquid_Blush')\n",
        "georgia = URIRef('https://en.wikipedia.org/wiki/Georgia_(country)')\n",
        "\n",
        "g.add((mascara_liquid, sub_category, beauty))\n",
        "g.add((mascara, cosmetic, mascara_liquid))\n",
        "g.add((mascara, brand, maybelline))\n",
        "g.add((mascara, country_of_origin, georgia))\n",
        "g.add((mascara, form, liquid))\n",
        "g.add((mascara, name, Literal('Lash sensational mascara')))\n",
        "g.add((mascara, price, Literal(8.54, datatype=XSD.float)))"
      ]
    },
    {
      "cell_type": "markdown",
      "metadata": {},
      "source": [
        "Setting Spray"
      ]
    },
    {
      "cell_type": "code",
      "execution_count": 30,
      "metadata": {},
      "outputs": [
        {
          "data": {
            "text/plain": [
              "<Graph identifier=N5eca8a667b034e95bafdbf47d3e2502a (<class 'rdflib.graph.Graph'>)>"
            ]
          },
          "execution_count": 30,
          "metadata": {},
          "output_type": "execute_result"
        }
      ],
      "source": [
        "radiant = URIRef('https://www.example.com/Radiant')\n",
        "nyx = URIRef('https://www.nyxcosmetics.com/')\n",
        "setting_spray_makeup = URIRef('https://www.example.com/Setting_Spray')\n",
        "aerosol = URIRef('https://en.wikipedia.org/wiki/Aerosol_spray_dispenser')\n",
        "\n",
        "g.add((setting_spray_makeup, sub_category, beauty))\n",
        "g.add((setting_spray, cosmetic, setting_spray_makeup))\n",
        "g.add((setting_spray, brand, nyx))\n",
        "g.add((setting_spray, form, aerosol))\n",
        "g.add((setting_spray, finish, radiant))\n",
        "g.add((setting_spray, name, Literal('Multitasking Spray Bare With Me Prime Set-Refresh-Multitasking Spray')))\n",
        "g.add((setting_spray, price, Literal(13.70, datatype=XSD.float)))"
      ]
    },
    {
      "cell_type": "markdown",
      "metadata": {},
      "source": [
        "Lip Gloss"
      ]
    },
    {
      "cell_type": "code",
      "execution_count": 31,
      "metadata": {},
      "outputs": [
        {
          "data": {
            "text/plain": [
              "<Graph identifier=N5eca8a667b034e95bafdbf47d3e2502a (<class 'rdflib.graph.Graph'>)>"
            ]
          },
          "execution_count": 31,
          "metadata": {},
          "output_type": "execute_result"
        }
      ],
      "source": [
        "matte = URIRef('https://en.wikipedia.org/wiki/Matte')\n",
        "taiwan = URIRef('https://en.wikipedia.org/wiki/Taiwan')\n",
        "lipgloss =URIRef('https://en.wikipedia.org/wiki/Lip_gloss')\n",
        "\n",
        "g.add((lipgloss, sub_category, beauty))\n",
        "g.add((lip_gloss, cosmetic, lipgloss))\n",
        "g.add((lip_gloss, country_of_origin, taiwan))\n",
        "g.add((lip_gloss, brand, nyx))\n",
        "g.add((lip_gloss, finish, matte))\n",
        "g.add((lip_gloss, color_name, Literal('Single')))\n",
        "g.add((lip_gloss, name, Literal('NYX Professional Makeup Lipstick')))\n",
        "g.add((lip_gloss, price, Literal(7.95, datatype=XSD.float)))"
      ]
    },
    {
      "cell_type": "markdown",
      "metadata": {},
      "source": [
        "Bronzer"
      ]
    },
    {
      "cell_type": "code",
      "execution_count": 32,
      "metadata": {},
      "outputs": [
        {
          "data": {
            "text/plain": [
              "<Graph identifier=N5eca8a667b034e95bafdbf47d3e2502a (<class 'rdflib.graph.Graph'>)>"
            ]
          },
          "execution_count": 32,
          "metadata": {},
          "output_type": "execute_result"
        }
      ],
      "source": [
        "uk = URIRef('https://en.wikipedia.org/wiki/United_Kingdom')\n",
        "bronzer_ = URIRef('https://en.wiktionary.org/wiki/bronzer')\n",
        "\n",
        "g.add((bronzer_, sub_category, beauty))\n",
        "g.add((bronzer, cosmetic, bronzer_))\n",
        "g.add((bronzer, country_of_origin, uk))\n",
        "g.add((bronzer, brand, marikoo))\n",
        "g.add((bronzer, finish, matte))\n",
        "g.add((bronzer, color_name, Literal('002 Bronze')))\n",
        "g.add((bronzer, name, Literal('Rimmel London Natural Bronzing Powder Bronzer')))\n",
        "g.add((bronzer, price, Literal(5.75, datatype=XSD.float)))"
      ]
    },
    {
      "cell_type": "code",
      "execution_count": 33,
      "metadata": {},
      "outputs": [
        {
          "data": {
            "text/plain": [
              "<Graph identifier=N5eca8a667b034e95bafdbf47d3e2502a (<class 'rdflib.graph.Graph'>)>"
            ]
          },
          "execution_count": 33,
          "metadata": {},
          "output_type": "execute_result"
        }
      ],
      "source": [
        "ttl_file = \"graph.ttl\"\n",
        "g.serialize(destination=ttl_file, format=\"turtle\")"
      ]
    },
    {
      "cell_type": "markdown",
      "metadata": {},
      "source": [
        "##### Provide categories, subcategories, and brand for a random item"
      ]
    },
    {
      "cell_type": "code",
      "execution_count": 34,
      "metadata": {},
      "outputs": [],
      "source": [
        "query_a= \"\"\"\n",
        "SELECT ?brand ?category ?subcategory\n",
        "WHERE {\n",
        "  <https://www.amazon.nl/-/en/Havanna-Dulce-Leche-250/dp/B00H8QZKOK/ref=sr_1_2?crid=1J46OTVE2MZ3P&keywords=dulce+de+leche&qid=1695820234&sprefix=dulce+de+%2Caps%2C87&sr=8-2>\n",
        "  <https://schema.org/Brand> ?brand.\n",
        "  <https://www.amazon.nl/-/en/Havanna-Dulce-Leche-250/dp/B00H8QZKOK/ref=sr_1_2?crid=1J46OTVE2MZ3P&keywords=dulce+de+leche&qid=1695820234&sprefix=dulce+de+%2Caps%2C87&sr=8-2>\n",
        "  <https://schema.org/category> ?category .\n",
        "  <https://www.amazon.nl/-/en/Havanna-Dulce-Leche-250/dp/B00H8QZKOK/ref=sr_1_2?crid=1J46OTVE2MZ3P&keywords=dulce+de+leche&qid=1695820234&sprefix=dulce+de+%2Caps%2C87&sr=8-2>\n",
        "  <https://dbpedia.org/page/subclass> ?subcategory.\n",
        "}\n",
        "\"\"\"\n",
        "qres = g.query(query_a)\n",
        "for row in qres:\n",
        "    brand = row[\"brand\"]\n",
        "    category = row[\"category\"]\n",
        "    subcategory = row[\"subcategory\"]\n",
        "    print(f\"Brand: {brand}, Category: {category}, Subcategory: {subcategory}\\n\")"
      ]
    },
    {
      "cell_type": "markdown",
      "metadata": {},
      "source": [
        "##### Items from different subcategories with the same brand"
      ]
    },
    {
      "cell_type": "code",
      "execution_count": 35,
      "metadata": {},
      "outputs": [
        {
          "name": "stdout",
          "output_type": "stream",
          "text": [
            "Item 1: https://www.amazon.nl/-/en/MARIKOO-Nanakoo-Womens-Winter-Jacket/dp/B07T3CXCDY?ref_=Oct_d_orecs_d_16391718031_0&pd_rd_w=O8JBG&content-id=amzn1.sym.c20ce805-8b57-413f-bf28-f3b17a0c04b1&pf_rd_p=c20ce805-8b57-413f-bf28-f3b17a0c04b1&pf_rd_r=018WGWVHNE6E053JFGT1&pd_rd_wg=TDDIQ&pd_rd_r=45146da3-c2e0-4045-947f-38d623f7adfc&pd_rd_i=B07T3CXCDY, Item 2: https://www.amazon.nl/-/en/Rimmel-London-Natural-Bronzing-Bronzer/dp/B08ZPFFBGD/ref=sr_1_20?crid=MQMMI8VKZMFW&keywords=makeup&qid=1695820165&sprefix=makeup%2Caps%2C95&sr=8-20&th=1, Brand: https://www.amazon.com.be/s?k=MARIKOO&language=en&ref=bl_sl_s_ap_web_0\n",
            "\n",
            "Item 1: https://www.amazon.nl/-/en/Rimmel-London-Natural-Bronzing-Bronzer/dp/B08ZPFFBGD/ref=sr_1_20?crid=MQMMI8VKZMFW&keywords=makeup&qid=1695820165&sprefix=makeup%2Caps%2C95&sr=8-20&th=1, Item 2: https://www.amazon.nl/-/en/MARIKOO-Nanakoo-Womens-Winter-Jacket/dp/B07T3CXCDY?ref_=Oct_d_orecs_d_16391718031_0&pd_rd_w=O8JBG&content-id=amzn1.sym.c20ce805-8b57-413f-bf28-f3b17a0c04b1&pf_rd_p=c20ce805-8b57-413f-bf28-f3b17a0c04b1&pf_rd_r=018WGWVHNE6E053JFGT1&pd_rd_wg=TDDIQ&pd_rd_r=45146da3-c2e0-4045-947f-38d623f7adfc&pd_rd_i=B07T3CXCDY, Brand: https://www.amazon.com.be/s?k=MARIKOO&language=en&ref=bl_sl_s_ap_web_0\n",
            "\n"
          ]
        }
      ],
      "source": [
        "query_b = \"\"\"\n",
        "SELECT ?item1 ?item2 ?brand\n",
        "WHERE {\n",
        "  ?item1 rdf:type ns3:product .\n",
        "  ?item2 rdf:type ns3:product .\n",
        "  ?item1 <https://schema.org/Brand> ?brand .\n",
        "  ?item2 <https://schema.org/Brand> ?brand .\n",
        "  ?item1 <https://schema.org/category> ?category1 .\n",
        "  ?item2 <https://schema.org/category> ?category2 .\n",
        "  FILTER (?item1 != ?item2 && ?category1 != ?category2)\n",
        "}\n",
        "\"\"\"\n",
        "\n",
        "qres = g.query(query_b)\n",
        "for row in qres:\n",
        "    item1 = row[\"item1\"]\n",
        "    item2 = row[\"item2\"]\n",
        "    brand = row[\"brand\"]\n",
        "    print(f\"Item 1: {item1}, Item 2: {item2}, Brand: {brand}\\n\")"
      ]
    },
    {
      "cell_type": "markdown",
      "metadata": {},
      "source": [
        "##### Group products by brand and calculate average price or rating"
      ]
    },
    {
      "cell_type": "code",
      "execution_count": 36,
      "metadata": {},
      "outputs": [],
      "source": [
        "query_c = \"\"\"\n",
        "\"\"\""
      ]
    },
    {
      "cell_type": "markdown",
      "metadata": {},
      "source": [
        "##### Sort products in one category by average brand price"
      ]
    },
    {
      "cell_type": "code",
      "execution_count": 37,
      "metadata": {},
      "outputs": [
        {
          "name": "stdout",
          "output_type": "stream",
          "text": [
            "Avg Price: 5.75, Item: https://www.amazon.nl/-/en/Rimmel-London-Natural-Bronzing-Bronzer/dp/B08ZPFFBGD/ref=sr_1_20?crid=MQMMI8VKZMFW&keywords=makeup&qid=1695820165&sprefix=makeup%2Caps%2C95&sr=8-20&th=1, Brand: https://www.amazon.com.be/s?k=MARIKOO&language=en&ref=bl_sl_s_ap_web_0\n",
            "\n",
            "Avg Price: 7.95, Item: https://www.amazon.nl/-/en/Rimmel-London-Natural-Bronzing-Bronzer/dp/B08ZPFFBGD/ref=sr_1_20?crid=MQMMI8VKZMFW&keywords=makeup&qid=1695820165&sprefix=makeup%2Caps%2C95&sr=8-20&th=1, Brand: https://www.nyxcosmetics.com/\n",
            "\n",
            "Avg Price: 8.54, Item: https://www.amazon.nl/-/en/Rimmel-London-Natural-Bronzing-Bronzer/dp/B08ZPFFBGD/ref=sr_1_20?crid=MQMMI8VKZMFW&keywords=makeup&qid=1695820165&sprefix=makeup%2Caps%2C95&sr=8-20&th=1, Brand: https://www.maybelline.nl/\n",
            "\n",
            "Avg Price: 13.7, Item: https://www.amazon.nl/-/en/Rimmel-London-Natural-Bronzing-Bronzer/dp/B08ZPFFBGD/ref=sr_1_20?crid=MQMMI8VKZMFW&keywords=makeup&qid=1695820165&sprefix=makeup%2Caps%2C95&sr=8-20&th=1, Brand: https://www.nyxcosmetics.com/\n",
            "\n",
            "Avg Price: 107.5, Item: https://www.amazon.nl/-/en/Rimmel-London-Natural-Bronzing-Bronzer/dp/B08ZPFFBGD/ref=sr_1_20?crid=MQMMI8VKZMFW&keywords=makeup&qid=1695820165&sprefix=makeup%2Caps%2C95&sr=8-20&th=1, Brand: https://nl.newbalance.eu/nl\n",
            "\n",
            "Avg Price: 107.5, Item: https://www.amazon.nl/-/en/Rimmel-London-Natural-Bronzing-Bronzer/dp/B08ZPFFBGD/ref=sr_1_20?crid=MQMMI8VKZMFW&keywords=makeup&qid=1695820165&sprefix=makeup%2Caps%2C95&sr=8-20&th=1, Brand: https://www.rarebeauty.com/\n",
            "\n"
          ]
        }
      ],
      "source": [
        "query_d = \"\"\"\n",
        "SELECT ?item ?brand (AVG(xsd:float(?price)) AS ?avgPrice)\n",
        "WHERE {\n",
        "  ?item rdf:type ns3:product .\n",
        "  ?item <https://schema.org/Brand> ?brand .\n",
        "  ?item <https://schema.org/price> ?price .\n",
        "  ?item <https://schema.org/category> <https://www.amazon.nl/-/en/gp/browse.html?node=16241721031&ref_=nav_em_hb_beauty_0_2_16_2> .\n",
        "}\n",
        "GROUP BY ?item ?brand\n",
        "ORDER BY ASC(?avgPrice) \n",
        "LIMIT 10\n",
        "\"\"\"\n",
        "\n",
        "qres = g.query(query_d)\n",
        "for row in qres:\n",
        "    avg_price = row[\"avgPrice\"]\n",
        "    item = row[\"item\"]\n",
        "    brand = row[\"brand\"]\n",
        "    print(f\"Avg Price: {avg_price}, Item: {item1}, Brand: {brand}\\n\")"
      ]
    },
    {
      "cell_type": "code",
      "execution_count": 38,
      "metadata": {},
      "outputs": [],
      "source": [
        "query_d2 = \"\"\"\n",
        "SELECT ?item ?brand AVG(xsd:float(?price)) AS ?avgPrice\n",
        "WHERE {\n",
        "  ?item rdf:type ns3:product .\n",
        "  ?item <https://schema.org/category> <https://www.amazon.nl/-/en/gp/browse.html?node=16241721031&ref_=nav_em_hb_beauty_0_2_16_2> .\n",
        "  ?item <https://schema.org/Brand> ?brand .\n",
        "  ?item <https://schema.org/price> ?price .\n",
        "}\n",
        "GROUP BY ?brand\n",
        "ORDER BY DESC(?averagePrice)\n",
        "\"\"\"\n",
        "\n",
        "# qres = g.query(query_d2)\n",
        "# for row in qres:\n",
        "#     print(row)"
      ]
    },
    {
      "cell_type": "markdown",
      "metadata": {},
      "source": [
        "##### Use an external service point, provide a description of 5 facts about the top brand from part D"
      ]
    },
    {
      "cell_type": "code",
      "execution_count": 39,
      "metadata": {},
      "outputs": [],
      "source": [
        "query_e =\"\"\"\n",
        "\"\"\""
      ]
    },
    {
      "cell_type": "markdown",
      "metadata": {},
      "source": [
        "##### Recommend an item which is similar to the item using your linked RDF graph"
      ]
    },
    {
      "cell_type": "code",
      "execution_count": 40,
      "metadata": {},
      "outputs": [
        {
          "name": "stdout",
          "output_type": "stream",
          "text": [
            "Item 1: https://www.amazon.nl/-/en/Balance-White-Beige-Style-Code/dp/B0C9JFWYFN/ref=sr_1_2?crid=2WVLPNA3J1UGB&keywords=new+balance+550+dames&qid=1695891276&sprefix=new%2Bbalance%2B550%2Caps%2C60&sr=8-2 and item 2: https://www.amazon.nl/-/en/MARIKOO-Nanakoo-Womens-Winter-Jacket/dp/B07T3CXCDY?ref_=Oct_d_orecs_d_16391718031_0&pd_rd_w=O8JBG&content-id=amzn1.sym.c20ce805-8b57-413f-bf28-f3b17a0c04b1&pf_rd_p=c20ce805-8b57-413f-bf28-f3b17a0c04b1&pf_rd_r=018WGWVHNE6E053JFGT1&pd_rd_wg=TDDIQ&pd_rd_r=45146da3-c2e0-4045-947f-38d623f7adfc&pd_rd_i=B07T3CXCDY, share the following property https://schema.org/department\n",
            "\n",
            "Item 1: https://en.wikipedia.org/wiki/Hazelnut and item 2: https://en.wikipedia.org/wiki/Chocolate, share the following property https://dbpedia.org/page/subclass\n",
            "\n",
            "Item 1: https://en.wikipedia.org/wiki/Hazelnut and item 2: https://en.wikipedia.org/wiki/Caramel, share the following property https://dbpedia.org/page/subclass\n",
            "\n",
            "Item 1: https://en.wikipedia.org/wiki/Hazelnut and item 2: https://en.wiktionary.org/wiki/spicy, share the following property https://dbpedia.org/page/subclass\n",
            "\n",
            "Item 1: https://dbpedia.org/page/Digital_camera and item 2: https://dbpedia.org/page/Computer, share the following property https://dbpedia.org/page/subclass\n",
            "\n"
          ]
        }
      ],
      "source": [
        "query_f = \"\"\"\n",
        "SELECT ?item ?similar_item ?property\n",
        "WHERE {\n",
        "    ?item ?property ?value .\n",
        "    ?similar_item ?property ?value .\n",
        "    FILTER (?item != ?similar_item)\n",
        "    FILTER (?property NOT IN (<https://schema.org/category>, rdf:type))\n",
        "}\n",
        "LIMIT 5\n",
        "\"\"\"\n",
        "\n",
        "qres = g.query(query_f)\n",
        "for row in qres:\n",
        "    item = row[\"item\"]\n",
        "    similar_item = row[\"similar_item\"]\n",
        "    property = row[\"property\"]\n",
        "    print(f\"Item 1: {item} and item 2: {similar_item}, share the following property {property}\\n\")"
      ]
    },
    {
      "cell_type": "markdown",
      "metadata": {},
      "source": [
        "own query\n",
        "##### select all items that have the same color butt are form different categories"
      ]
    },
    {
      "cell_type": "code",
      "execution_count": 41,
      "metadata": {},
      "outputs": [
        {
          "name": "stdout",
          "output_type": "stream",
          "text": [
            "Item 1: https://www.amazon.nl/-/en/Canon-Camera-F3-5-5-6-Screen-Sensor/dp/B07BMV268V/ref=sr_1_5?crid=2FDQIB4UHD3US&keywords=canon+camera&qid=1695820401&sprefix=canon+%2Caps%2C100&sr=8-5 and item 2: https://www.amazon.nl/-/en/adidas-Samba-Running-Shoes-Runwht/dp/B000KKMMG0/ref=sr_1_2?crid=2VWBC08R8NT51&keywords=adidas+samba&qid=1695890725&sprefix=adidas+%2Caps%2C78&sr=8-2, are both https://en.wikipedia.org/wiki/Black\n",
            "\n",
            "Item 1: https://www.amazon.nl/-/en/Canon-Camera-F3-5-5-6-Screen-Sensor/dp/B07BMV268V/ref=sr_1_5?crid=2FDQIB4UHD3US&keywords=canon+camera&qid=1695820401&sprefix=canon+%2Caps%2C100&sr=8-5 and item 2: https://www.amazon.nl/-/en/adidas-Adilette-Girls-Trainers-Black/dp/B07F71DBGG/ref=sr_1_5?crid=39AHYB3Z6H6C2&keywords=adidas+slippers&qid=1696410897&sprefix=adidas%2Caps%2C110&sr=8-5, are both https://en.wikipedia.org/wiki/Black\n",
            "\n",
            "Item 1: https://www.amazon.nl/-/en/adidas-Samba-Running-Shoes-Runwht/dp/B000KKMMG0/ref=sr_1_2?crid=2VWBC08R8NT51&keywords=adidas+samba&qid=1695890725&sprefix=adidas+%2Caps%2C78&sr=8-2 and item 2: https://www.amazon.nl/-/en/Canon-Camera-F3-5-5-6-Screen-Sensor/dp/B07BMV268V/ref=sr_1_5?crid=2FDQIB4UHD3US&keywords=canon+camera&qid=1695820401&sprefix=canon+%2Caps%2C100&sr=8-5, are both https://en.wikipedia.org/wiki/Black\n",
            "\n",
            "Item 1: https://www.amazon.nl/-/en/adidas-Adilette-Girls-Trainers-Black/dp/B07F71DBGG/ref=sr_1_5?crid=39AHYB3Z6H6C2&keywords=adidas+slippers&qid=1696410897&sprefix=adidas%2Caps%2C110&sr=8-5 and item 2: https://www.amazon.nl/-/en/Canon-Camera-F3-5-5-6-Screen-Sensor/dp/B07BMV268V/ref=sr_1_5?crid=2FDQIB4UHD3US&keywords=canon+camera&qid=1695820401&sprefix=canon+%2Caps%2C100&sr=8-5, are both https://en.wikipedia.org/wiki/Black\n",
            "\n",
            "Item 1: https://www.amazon.nl/-/en/Tommy-Hilfiger-T-Shirt-Allure-Heather/dp/B07DXB5VMV/ref=zg_bs_c_fashion_sccl_1/257-6316699-9736546?pd_rd_w=BFCe6&content-id=amzn1.sym.6d0b5bcd-e90f-45da-a5c5-c8a801ccda1a&pf_rd_p=6d0b5bcd-e90f-45da-a5c5-c8a801ccda1a&pf_rd_r=6G90AXJX557JBN0K4T46&pd_rd_wg=4eW54&pd_rd_r=0ae55144-f128-4957-9ba0-67b84c1fff3c&pd_rd_i=B07DX7BF7G&th=1&psc=1 and item 2: https://www.amazon.nl/-/en/Balance-White-Beige-Style-Code/dp/B0C9JFWYFN/ref=sr_1_2?crid=2WVLPNA3J1UGB&keywords=new+balance+550+dames&qid=1695891276&sprefix=new%2Bbalance%2B550%2Caps%2C60&sr=8-2, are both https://en.wikipedia.org/wiki/White\n",
            "\n",
            "Item 1: https://www.amazon.nl/-/en/Balance-White-Beige-Style-Code/dp/B0C9JFWYFN/ref=sr_1_2?crid=2WVLPNA3J1UGB&keywords=new+balance+550+dames&qid=1695891276&sprefix=new%2Bbalance%2B550%2Caps%2C60&sr=8-2 and item 2: https://www.amazon.nl/-/en/Tommy-Hilfiger-T-Shirt-Allure-Heather/dp/B07DXB5VMV/ref=zg_bs_c_fashion_sccl_1/257-6316699-9736546?pd_rd_w=BFCe6&content-id=amzn1.sym.6d0b5bcd-e90f-45da-a5c5-c8a801ccda1a&pf_rd_p=6d0b5bcd-e90f-45da-a5c5-c8a801ccda1a&pf_rd_r=6G90AXJX557JBN0K4T46&pd_rd_wg=4eW54&pd_rd_r=0ae55144-f128-4957-9ba0-67b84c1fff3c&pd_rd_i=B07DX7BF7G&th=1&psc=1, are both https://en.wikipedia.org/wiki/White\n",
            "\n"
          ]
        }
      ],
      "source": [
        "query_g = \"\"\"\n",
        "SELECT ?item1 ?item2 ?color\n",
        "WHERE {\n",
        "    ?item1 <https://schema.org/color> ?color .\n",
        "    ?item2 <https://schema.org/color> ?color .\n",
        "    ?item1 <https://schema.org/category> ?category1 .\n",
        "    ?item2 <https://schema.org/category> ?category2 .\n",
        "    FILTER (?item1 != ?item2 && ?category1 != ?category2)\n",
        "}\n",
        "\"\"\"\n",
        "# g.query(query_g)\n",
        "qres = g.query(query_g)\n",
        "for row in qres:\n",
        "    item1 = row[\"item1\"]\n",
        "    item2 = row[\"item2\"]\n",
        "    color = row[\"color\"]\n",
        "    print(f\"Item 1: {item1} and item 2: {item2}, are both {color}\\n\")"
      ]
    }
  ],
  "metadata": {
    "colab": {
      "collapsed_sections": [],
      "provenance": []
    },
    "kernelspec": {
      "display_name": "Python 3.10.6 64-bit",
      "language": "python",
      "name": "python3"
    },
    "language_info": {
      "codemirror_mode": {
        "name": "ipython",
        "version": 3
      },
      "file_extension": ".py",
      "mimetype": "text/x-python",
      "name": "python",
      "nbconvert_exporter": "python",
      "pygments_lexer": "ipython3",
      "version": "3.11.3"
    },
    "vscode": {
      "interpreter": {
        "hash": "fd9f7c313d852cfaa2936a8f1c936400b024aef9b1419cae2b7511e9f21182ca"
      }
    }
  },
  "nbformat": 4,
  "nbformat_minor": 0
}
